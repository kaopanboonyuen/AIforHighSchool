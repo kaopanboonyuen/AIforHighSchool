{
  "nbformat": 4,
  "nbformat_minor": 0,
  "metadata": {
    "colab": {
      "name": "week3_1_basic_string_processing.ipynb",
      "provenance": [],
      "toc_visible": true
    },
    "kernelspec": {
      "name": "python3",
      "display_name": "Python 3"
    },
    "language_info": {
      "name": "python"
    }
  },
  "cells": [
    {
      "cell_type": "markdown",
      "source": [
        "##What is String in Python?\n",
        "A string is a sequence of characters.\n",
        "\n",
        "A character is simply a symbol. For example, the English language has 26 characters.\n",
        "\n",
        "Computers do not deal with characters, they deal with numbers (binary). Even though you may see characters on your screen, internally it is stored and manipulated as a combination of 0s and 1s.\n",
        "\n",
        "This conversion of character to a number is called encoding, and the reverse process is decoding. ASCII and Unicode are some of the popular encodings used.\n",
        "\n",
        "In Python, a string is a sequence of Unicode characters. Unicode was introduced to include every character in all languages and bring uniformity in encoding. You can learn about Unicode from Python Unicode.\n",
        "\n",
        "ref: https://www.programiz.com/python-programming/string"
      ],
      "metadata": {
        "id": "1kpyfW_4EanT"
      }
    },
    {
      "cell_type": "code",
      "execution_count": null,
      "metadata": {
        "id": "5cViN4fECH0y",
        "colab": {
          "base_uri": "https://localhost:8080/"
        },
        "outputId": "5243e781-d089-485f-dd9e-f14c975aba68"
      },
      "outputs": [
        {
          "output_type": "stream",
          "name": "stdout",
          "text": [
            "Son of a beach.\n"
          ]
        }
      ],
      "source": [
        "#Creation\n",
        "word = \"Son of a beach.\"\n",
        "print(word)"
      ]
    },
    {
      "cell_type": "code",
      "source": [
        "#Accessing\n",
        "letter = word[0]\n",
        "print(letter)"
      ],
      "metadata": {
        "colab": {
          "base_uri": "https://localhost:8080/"
        },
        "id": "ACJvQSHhEVcP",
        "outputId": "c4a603aa-0992-4131-995c-af59e556350c"
      },
      "execution_count": null,
      "outputs": [
        {
          "output_type": "stream",
          "name": "stdout",
          "text": [
            "S\n"
          ]
        }
      ]
    },
    {
      "cell_type": "code",
      "source": [
        "#Length\n",
        "len(word)"
      ],
      "metadata": {
        "colab": {
          "base_uri": "https://localhost:8080/"
        },
        "id": "aj0B8nYGKubf",
        "outputId": "ff41cf6f-715f-4c0a-a88c-ae671c5acdc3"
      },
      "execution_count": null,
      "outputs": [
        {
          "output_type": "execute_result",
          "data": {
            "text/plain": [
              "15"
            ]
          },
          "metadata": {},
          "execution_count": 3
        }
      ]
    },
    {
      "cell_type": "markdown",
      "source": [
        "##Finding"
      ],
      "metadata": {
        "id": "HUJh8whSEHHY"
      }
    },
    {
      "cell_type": "code",
      "source": [
        "print(word.count('a'))"
      ],
      "metadata": {
        "colab": {
          "base_uri": "https://localhost:8080/"
        },
        "id": "kY3OwgkMK6Dm",
        "outputId": "40ab8c30-90a4-4895-fc4e-1c71b8a05d12"
      },
      "execution_count": null,
      "outputs": [
        {
          "output_type": "stream",
          "name": "stdout",
          "text": [
            "2\n"
          ]
        }
      ]
    },
    {
      "cell_type": "code",
      "source": [
        "print(word.find(\"S\"))"
      ],
      "metadata": {
        "colab": {
          "base_uri": "https://localhost:8080/"
        },
        "id": "kfmvrwmGK6HY",
        "outputId": "45087adf-6d1d-4b43-df9d-dcce94a58a90"
      },
      "execution_count": null,
      "outputs": [
        {
          "output_type": "stream",
          "name": "stdout",
          "text": [
            "0\n"
          ]
        }
      ]
    },
    {
      "cell_type": "code",
      "source": [
        "print(word.index(\"beach\"))"
      ],
      "metadata": {
        "colab": {
          "base_uri": "https://localhost:8080/"
        },
        "id": "aVuctRdZK6Km",
        "outputId": "2bb2a4f4-bdaf-40d0-e4f9-5ff332a73f7b"
      },
      "execution_count": null,
      "outputs": [
        {
          "output_type": "stream",
          "name": "stdout",
          "text": [
            "9\n"
          ]
        }
      ]
    },
    {
      "cell_type": "markdown",
      "source": [
        "##Slicing\n",
        "Use [ # : # ] to get set of letter\n",
        "\n",
        "\n",
        "Keep in mind that python, as many other languages, starts to count from 0!!\n",
        "\n",
        "###format of slicing\n",
        "\n",
        "word[start:end] # items start through end-1\n",
        "\n",
        "word[start:] # items start through the rest of the list\n",
        "\n",
        "word[:end] # items from the beginning through end-1\n",
        "\n",
        "word[:] # a copy of the whole list\n",
        "\n",
        "ref: https://www.pythonforbeginners.com/basics/string-manipulation-in-python"
      ],
      "metadata": {
        "id": "FVtOnuHvMrXb"
      }
    },
    {
      "cell_type": "code",
      "source": [
        "print(word[0]) #get one char of the word\n",
        "print(word[0:1]) #get one char of the word (same as above)\n",
        "print(word[0:3]) #get the first three char\n",
        "print(word[:3]) #get the first three char\n",
        "print(word[-3:]) #get the last three char\n",
        "print(word[3:]) #get all but the three first char\n",
        "print(word[:-3]) #get all but the three last character"
      ],
      "metadata": {
        "colab": {
          "base_uri": "https://localhost:8080/"
        },
        "id": "uXmo-BspK6N6",
        "outputId": "25514320-52f4-4b09-e9f0-f3ba4aac0364"
      },
      "execution_count": null,
      "outputs": [
        {
          "output_type": "stream",
          "name": "stdout",
          "text": [
            "S\n",
            "S\n",
            "Son\n",
            "Son\n",
            "ch.\n",
            " of a beach.\n",
            "Son of a bea\n"
          ]
        }
      ]
    },
    {
      "cell_type": "markdown",
      "source": [
        "##Split string\n",
        "\n",
        "return to the list of word in sentence"
      ],
      "metadata": {
        "id": "5-lYbIqHB2lo"
      }
    },
    {
      "cell_type": "code",
      "source": [
        "word.split(' ') # Split on whitespace"
      ],
      "metadata": {
        "id": "LDpck3yRPyH4",
        "colab": {
          "base_uri": "https://localhost:8080/"
        },
        "outputId": "02891a0a-1652-4140-bc8d-f21ffc76aa2e"
      },
      "execution_count": null,
      "outputs": [
        {
          "output_type": "execute_result",
          "data": {
            "text/plain": [
              "['Son', 'of', 'a', 'beach.']"
            ]
          },
          "metadata": {},
          "execution_count": 8
        }
      ]
    },
    {
      "cell_type": "markdown",
      "source": [
        "##Startswith / Endswith"
      ],
      "metadata": {
        "id": "HUz66VKmCCuO"
      }
    },
    {
      "cell_type": "code",
      "source": [
        "word.startswith(\"S\")"
      ],
      "metadata": {
        "colab": {
          "base_uri": "https://localhost:8080/"
        },
        "id": "IzyijBQpBF26",
        "outputId": "88fa49a3-5de3-471a-f58a-4649c8755ed9"
      },
      "execution_count": null,
      "outputs": [
        {
          "output_type": "execute_result",
          "data": {
            "text/plain": [
              "True"
            ]
          },
          "metadata": {},
          "execution_count": 9
        }
      ]
    },
    {
      "cell_type": "code",
      "source": [
        "word.endswith(\"h\")"
      ],
      "metadata": {
        "colab": {
          "base_uri": "https://localhost:8080/"
        },
        "id": "nE01bzltBag-",
        "outputId": "c5f57bb4-3992-4878-dc89-e778734c382e"
      },
      "execution_count": null,
      "outputs": [
        {
          "output_type": "execute_result",
          "data": {
            "text/plain": [
              "False"
            ]
          },
          "metadata": {},
          "execution_count": 12
        }
      ]
    },
    {
      "cell_type": "code",
      "source": [
        "word.endswith(\".\")"
      ],
      "metadata": {
        "colab": {
          "base_uri": "https://localhost:8080/"
        },
        "id": "rBa_r8FSBiSv",
        "outputId": "e9a4404a-6a88-42a4-c455-e0e450aa309a"
      },
      "execution_count": null,
      "outputs": [
        {
          "output_type": "execute_result",
          "data": {
            "text/plain": [
              "True"
            ]
          },
          "metadata": {},
          "execution_count": 13
        }
      ]
    },
    {
      "cell_type": "markdown",
      "source": [
        "##Replacing"
      ],
      "metadata": {
        "id": "jvBrQfCFCUIw"
      }
    },
    {
      "cell_type": "code",
      "source": [
        "word.replace(\"Son\", \"Girls\")"
      ],
      "metadata": {
        "colab": {
          "base_uri": "https://localhost:8080/",
          "height": 35
        },
        "id": "8vfDLlT8BxE9",
        "outputId": "67a4d1cb-622d-42bc-ad73-465fb232c2e7"
      },
      "execution_count": null,
      "outputs": [
        {
          "output_type": "execute_result",
          "data": {
            "text/plain": [
              "'Girls of a beach.'"
            ],
            "application/vnd.google.colaboratory.intrinsic+json": {
              "type": "string"
            }
          },
          "metadata": {},
          "execution_count": 15
        }
      ]
    },
    {
      "cell_type": "markdown",
      "source": [
        "##Changing Upper and Lower Case Strings"
      ],
      "metadata": {
        "id": "D0bZizRwDgrA"
      }
    },
    {
      "cell_type": "code",
      "source": [
        "print(word.upper())"
      ],
      "metadata": {
        "colab": {
          "base_uri": "https://localhost:8080/"
        },
        "id": "4k2VRL-UCwo8",
        "outputId": "42bf6990-ee32-47f8-9bcd-78b41cd798b3"
      },
      "execution_count": null,
      "outputs": [
        {
          "output_type": "stream",
          "name": "stdout",
          "text": [
            "SON OF A BEACH.\n"
          ]
        }
      ]
    },
    {
      "cell_type": "code",
      "source": [
        "print(word.lower())"
      ],
      "metadata": {
        "colab": {
          "base_uri": "https://localhost:8080/"
        },
        "id": "B7yvMg_cDpVs",
        "outputId": "9b1b9fca-dfe1-4683-cc52-47ad1adf9fe9"
      },
      "execution_count": null,
      "outputs": [
        {
          "output_type": "stream",
          "name": "stdout",
          "text": [
            "son of a beach.\n"
          ]
        }
      ]
    },
    {
      "cell_type": "code",
      "source": [
        "print(word.capitalize())"
      ],
      "metadata": {
        "colab": {
          "base_uri": "https://localhost:8080/"
        },
        "id": "rS9hsdm5DsNz",
        "outputId": "eae55b3c-4419-40c2-d330-928b16751cd7"
      },
      "execution_count": null,
      "outputs": [
        {
          "output_type": "stream",
          "name": "stdout",
          "text": [
            "Son of a beach.\n"
          ]
        }
      ]
    },
    {
      "cell_type": "markdown",
      "source": [
        "##Strip"
      ],
      "metadata": {
        "id": "yZ5QrGUED9Og"
      }
    },
    {
      "cell_type": "code",
      "source": [
        "word = \" Hey boy \"\n",
        "len(word)"
      ],
      "metadata": {
        "colab": {
          "base_uri": "https://localhost:8080/"
        },
        "id": "JnCcayfQDvbT",
        "outputId": "a33cedf5-3071-400a-f36c-69e6aab84729"
      },
      "execution_count": null,
      "outputs": [
        {
          "output_type": "execute_result",
          "data": {
            "text/plain": [
              "9"
            ]
          },
          "metadata": {},
          "execution_count": 21
        }
      ]
    },
    {
      "cell_type": "code",
      "source": [
        "len(word.strip())"
      ],
      "metadata": {
        "colab": {
          "base_uri": "https://localhost:8080/"
        },
        "id": "_eq3RlKpEL3f",
        "outputId": "7210327f-9be6-4c2a-c8ef-e4e15c793b1e"
      },
      "execution_count": null,
      "outputs": [
        {
          "output_type": "execute_result",
          "data": {
            "text/plain": [
              "7"
            ]
          },
          "metadata": {},
          "execution_count": 22
        }
      ]
    },
    {
      "cell_type": "code",
      "source": [
        "len(word.lstrip())"
      ],
      "metadata": {
        "colab": {
          "base_uri": "https://localhost:8080/"
        },
        "id": "RQwJRuKtEWhG",
        "outputId": "293e24fc-8286-411a-fccb-e43b84efc3a0"
      },
      "execution_count": null,
      "outputs": [
        {
          "output_type": "execute_result",
          "data": {
            "text/plain": [
              "8"
            ]
          },
          "metadata": {},
          "execution_count": 23
        }
      ]
    },
    {
      "cell_type": "code",
      "source": [
        "len(word.rstrip())"
      ],
      "metadata": {
        "colab": {
          "base_uri": "https://localhost:8080/"
        },
        "id": "v_-SjLX_Ea9I",
        "outputId": "59232e03-5e97-40d1-cfbc-b0c739aa16ad"
      },
      "execution_count": null,
      "outputs": [
        {
          "output_type": "execute_result",
          "data": {
            "text/plain": [
              "8"
            ]
          },
          "metadata": {},
          "execution_count": 24
        }
      ]
    },
    {
      "cell_type": "markdown",
      "source": [
        "##Concatenation\n",
        "To concatenate strings in Python use the “+” operator."
      ],
      "metadata": {
        "id": "Ajv0Y8cBE_gG"
      }
    },
    {
      "cell_type": "code",
      "source": [
        "# = \"Hello World!\"\n",
        "word = \"Hello \" + \"World\" + \"!\""
      ],
      "metadata": {
        "id": "WrDvWBJxEdPU"
      },
      "execution_count": null,
      "outputs": []
    },
    {
      "cell_type": "code",
      "source": [
        "#join\n",
        "' '.join(word)"
      ],
      "metadata": {
        "colab": {
          "base_uri": "https://localhost:8080/",
          "height": 35
        },
        "id": "Ozw__ophFsGL",
        "outputId": "797c579e-a783-4a7d-cfcb-bdf2d2104bc7"
      },
      "execution_count": null,
      "outputs": [
        {
          "output_type": "execute_result",
          "data": {
            "text/plain": [
              "'H e l l o   W o r l d !'"
            ],
            "application/vnd.google.colaboratory.intrinsic+json": {
              "type": "string"
            }
          },
          "metadata": {},
          "execution_count": 27
        }
      ]
    },
    {
      "cell_type": "code",
      "source": [
        "word = 'Hello World'\n",
        "print(word.isalnum()) #check if all char are alphanumeric \n",
        "print(word.isalpha()) #check if all char in the string are alphabetic\n",
        "print(word.isdigit()) #test if string contains digits\n",
        "print(word.isspace())"
      ],
      "metadata": {
        "colab": {
          "base_uri": "https://localhost:8080/"
        },
        "id": "--RFInzdF3_k",
        "outputId": "ca0caaf0-2e15-4a35-c791-3b392bac453a"
      },
      "execution_count": null,
      "outputs": [
        {
          "output_type": "stream",
          "name": "stdout",
          "text": [
            "False\n",
            "False\n",
            "False\n",
            "False\n"
          ]
        }
      ]
    },
    {
      "cell_type": "code",
      "source": [
        ""
      ],
      "metadata": {
        "id": "X7WrSBTXHkAM"
      },
      "execution_count": null,
      "outputs": []
    },
    {
      "cell_type": "markdown",
      "source": [
        "##Thai string encode/decode"
      ],
      "metadata": {
        "id": "pXA5T_D2MarM"
      }
    },
    {
      "cell_type": "code",
      "source": [
        "#encoding \n",
        "print(\"หนังสือ\".encode('utf-8'))"
      ],
      "metadata": {
        "colab": {
          "base_uri": "https://localhost:8080/"
        },
        "id": "1_2RX8L7MfJg",
        "outputId": "a5f91d85-b033-4774-d1f9-8f71d3816498"
      },
      "execution_count": null,
      "outputs": [
        {
          "output_type": "stream",
          "name": "stdout",
          "text": [
            "b'\\xe0\\xb8\\xab\\xe0\\xb8\\x99\\xe0\\xb8\\xb1\\xe0\\xb8\\x87\\xe0\\xb8\\xaa\\xe0\\xb8\\xb7\\xe0\\xb8\\xad'\n",
            "หนังสือ\n"
          ]
        }
      ]
    },
    {
      "cell_type": "code",
      "source": [
        "#decoding\n",
        "word = \"หนังสือ\".encode('utf-8')\n",
        "thai_word = word.decode('utf-8')\n",
        "print(thai_word)"
      ],
      "metadata": {
        "id": "Wl0WTAzMNAg8"
      },
      "execution_count": null,
      "outputs": []
    },
    {
      "cell_type": "markdown",
      "source": [
        "##Excercise"
      ],
      "metadata": {
        "id": "xlcuaHabPNQl"
      }
    },
    {
      "cell_type": "markdown",
      "source": [
        "###1.Convert numeric words to numbers"
      ],
      "metadata": {
        "id": "hLWBtLwTPoDx"
      }
    },
    {
      "cell_type": "code",
      "source": [
        "number_dict = {\n",
        "    'one': '1',\n",
        "    'two': '2',\n",
        "    'three': '3',\n",
        "    'four': '4',\n",
        "    'five': '5',\n",
        "    'six': '6',\n",
        "    'seven': '7',\n",
        "    'eight': '8',\n",
        "    'nine': '9',\n",
        "    'zero' : '0'\n",
        "}"
      ],
      "metadata": {
        "id": "7CwddBKhhVp7"
      },
      "execution_count": null,
      "outputs": []
    },
    {
      "cell_type": "code",
      "source": [
        "# initializing string\n",
        "test_str = \"zero four zero one\""
      ],
      "metadata": {
        "id": "0PdR-GZfP-07"
      },
      "execution_count": null,
      "outputs": []
    },
    {
      "cell_type": "code",
      "source": [
        "#code\n",
        "\n",
        "\n",
        "\n"
      ],
      "metadata": {
        "id": "nUTZm_L-P-55"
      },
      "execution_count": null,
      "outputs": []
    },
    {
      "cell_type": "code",
      "source": [
        "#result"
      ],
      "metadata": {
        "colab": {
          "base_uri": "https://localhost:8080/"
        },
        "id": "FwSC74PPP-81",
        "outputId": "b67f5d1f-a030-42d7-a21a-24394df66f4a"
      },
      "execution_count": null,
      "outputs": [
        {
          "output_type": "stream",
          "name": "stdout",
          "text": [
            "0401\n"
          ]
        }
      ]
    },
    {
      "cell_type": "markdown",
      "source": [
        "### 2.Create function to remove first n characters from a string"
      ],
      "metadata": {
        "id": "69nLmfr-UGa0"
      }
    },
    {
      "cell_type": "code",
      "source": [
        "#code\n",
        "def remove_chars(word, n):\n",
        "  "
      ],
      "metadata": {
        "id": "uIhTaTRcP-_x"
      },
      "execution_count": null,
      "outputs": []
    },
    {
      "cell_type": "code",
      "source": [
        "#result \n",
        "remove_chars('ทนงทวยคงควรคอย', 3)"
      ],
      "metadata": {
        "colab": {
          "base_uri": "https://localhost:8080/"
        },
        "id": "5uOAYc0LP_Bz",
        "outputId": "c12762a1-d0b1-4f51-e8de-0a19c7d98451"
      },
      "execution_count": null,
      "outputs": [
        {
          "output_type": "stream",
          "name": "stdout",
          "text": [
            "ทวยคงควรคอย\n"
          ]
        }
      ]
    },
    {
      "cell_type": "markdown",
      "source": [
        "###3.Return the count of a given substring from a string"
      ],
      "metadata": {
        "id": "Dzb1kUkqWzXn"
      }
    },
    {
      "cell_type": "code",
      "source": [
        "str_x = \"AYUTTHAYA: Vendors of roti sai mai have hailed Thai superstar Lisa \\\n",
        "        Lisa Manoban for posting a video that has created major buzz about their sweet snacks.\""
      ],
      "metadata": {
        "id": "P6teygIbVOkx"
      },
      "execution_count": null,
      "outputs": []
    },
    {
      "cell_type": "code",
      "source": [
        "#return count of Lisa\n",
        "#code\n",
        "\n",
        "\n",
        "\n"
      ],
      "metadata": {
        "id": "tjFjPyPmW4DE"
      },
      "execution_count": null,
      "outputs": []
    },
    {
      "cell_type": "code",
      "source": [
        "#result"
      ],
      "metadata": {
        "colab": {
          "base_uri": "https://localhost:8080/"
        },
        "id": "yhHJPJy1W6wy",
        "outputId": "3aed1018-61ee-43f3-9a44-fa1428f00c46"
      },
      "execution_count": null,
      "outputs": [
        {
          "output_type": "stream",
          "name": "stdout",
          "text": [
            "Lisa appeared 2 times\n"
          ]
        }
      ]
    },
    {
      "cell_type": "markdown",
      "source": [
        "###4.Write a Program to extract each digit from a string."
      ],
      "metadata": {
        "id": "5nlEigt5aBMm"
      }
    },
    {
      "cell_type": "code",
      "source": [
        "str_y = 'Girls’ Generation has made their much-anticipated return! \\\n",
        "        On August 5 at 6 p.m. KST, Girls’ Generation released their new album “ FOREVER 1 ” along with the music video for the title track of the same name. \\\n",
        "        The iconic girl group made their first full-group comeback in five years in celebration of the 15 th anniversary of their debut. \\\n",
        "        The digital album was unveiled today, but the physical album will be released on August 8.'"
      ],
      "metadata": {
        "id": "y48q9BVjXKBP"
      },
      "execution_count": null,
      "outputs": []
    },
    {
      "cell_type": "code",
      "source": [
        "#return number list from string\n",
        "#code\n",
        "\n",
        "\n",
        "\n"
      ],
      "metadata": {
        "id": "ChexvL5FZHdo"
      },
      "execution_count": null,
      "outputs": []
    },
    {
      "cell_type": "code",
      "source": [
        "#result\n"
      ],
      "metadata": {
        "colab": {
          "base_uri": "https://localhost:8080/"
        },
        "id": "d6Lg-ZQNZS2p",
        "outputId": "dac3d8bc-ac6f-4b9b-fd8e-53222d9ee408"
      },
      "execution_count": null,
      "outputs": [
        {
          "output_type": "execute_result",
          "data": {
            "text/plain": [
              "['5', '6', '1', '15']"
            ]
          },
          "metadata": {},
          "execution_count": 31
        }
      ]
    },
    {
      "cell_type": "markdown",
      "source": [
        "###5.Write program for calculate cost of food beverage from texts."
      ],
      "metadata": {
        "id": "JN-uTlO9ah9x"
      }
    },
    {
      "cell_type": "code",
      "source": [
        "str_z = 'คุณฟัก อยู่แม้น ไปรับประทานอาหารที่ร้านโคตรละยำตำบอน รายการดังนี้ ค่ายำทะเลเดือด 250 บาท \\\n",
        "          ยำถั่วพู 80 คอหมูย่าง 80  ลาหมูคั่ว 100 ไส้ย่าง 100 ค่าเครื่องดื่ม 400'"
      ],
      "metadata": {
        "id": "ggFCc3kPZveF"
      },
      "execution_count": null,
      "outputs": []
    },
    {
      "cell_type": "code",
      "source": [
        "#code\n",
        "\n",
        "\n",
        "\n",
        "\n"
      ],
      "metadata": {
        "id": "pgEgMXbQnF-V"
      },
      "execution_count": null,
      "outputs": []
    },
    {
      "cell_type": "code",
      "source": [
        "#result\n"
      ],
      "metadata": {
        "colab": {
          "base_uri": "https://localhost:8080/"
        },
        "id": "yVZQmTGonKTs",
        "outputId": "c324f420-badb-42d5-bea7-140d3edfb6f5"
      },
      "execution_count": null,
      "outputs": [
        {
          "output_type": "stream",
          "name": "stdout",
          "text": [
            "1010\n"
          ]
        }
      ]
    },
    {
      "cell_type": "markdown",
      "source": [
        "###6.Create function for check string has at least one letter and one number "
      ],
      "metadata": {
        "id": "eL65CDZnrDEZ"
      }
    },
    {
      "cell_type": "code",
      "source": [
        "def checkstring(txt):\n",
        "  \n",
        "\n",
        "\n",
        "\n",
        "\n",
        "  "
      ],
      "metadata": {
        "id": "BKXYlWTDn1gZ"
      },
      "execution_count": null,
      "outputs": []
    },
    {
      "cell_type": "code",
      "source": [
        "#result \n"
      ],
      "metadata": {
        "colab": {
          "base_uri": "https://localhost:8080/"
        },
        "id": "HetuIkswsQ2-",
        "outputId": "ae7d6516-7494-4517-af90-26d8548746a2"
      },
      "execution_count": null,
      "outputs": [
        {
          "output_type": "stream",
          "name": "stdout",
          "text": [
            "True\n"
          ]
        }
      ]
    },
    {
      "cell_type": "markdown",
      "source": [
        "###7.Write program for count word from texts."
      ],
      "metadata": {
        "id": "K_h60WUmvAgX"
      }
    },
    {
      "cell_type": "code",
      "source": [
        "str_a = 'The Call of Duty franchise is no stranger to mobile gaming, but the succinctly titled Call of Duty: Mobile is different. \\\n",
        "While I’ve already fought Call of Duty zombies on a phone and even used a Nintendo DS stylus to aim down sights \\\n",
        "(I don’t recommend it) in unambitious games designed for the limitations of their platforms, this new entry represents a concerted effort \\\n",
        "from Activision to make a mark on the notoriously difficult-to-crack and overcrowded mobile market – and it clearly wants to bring in people for the long term. \\\n",
        "You won’t find a campaign, but the multiplayer modes are substantial and even include a full battle royale. What’s put forth is impressive, \\\n",
        "but the controls are iffy and its free-to-play nature has it reminding you about its microtransactions often, even if they are thankfully easy to ignore.'"
      ],
      "metadata": {
        "id": "iuzwUErksQ_B"
      },
      "execution_count": null,
      "outputs": []
    },
    {
      "cell_type": "code",
      "source": [
        "#code\n",
        "\n",
        "\n",
        "\n",
        "\n"
      ],
      "metadata": {
        "id": "kcDI2yv6u-fs"
      },
      "execution_count": null,
      "outputs": []
    },
    {
      "cell_type": "code",
      "source": [
        "#result\n"
      ],
      "metadata": {
        "colab": {
          "base_uri": "https://localhost:8080/"
        },
        "id": "UXmGKzT6vcWl",
        "outputId": "0beb2106-c1ac-4af3-ec9c-0ae36ed0114e"
      },
      "execution_count": null,
      "outputs": [
        {
          "output_type": "stream",
          "name": "stdout",
          "text": [
            "2\n"
          ]
        }
      ]
    },
    {
      "cell_type": "markdown",
      "source": [
        "###8.Write program for count all character in dictionary.\n",
        "\n",
        "\n"
      ],
      "metadata": {
        "id": "e7fSrpAfytco"
      }
    },
    {
      "cell_type": "code",
      "source": [
        "dict_tweets = {\n",
        "'1551804244524953600' :'#นมวัวรีวิว คำเดียวเลยนะแกมันอร่อยมากก ข้าวโพดอบกรอบรสซุปข้าวโพดเดอะเบสสุดแล้วแต่ราไข่ปลาคอลกับชีสก็อร่อยนะราคาแพ็ค30แท่ง139บาท \\\n",
        "ขายแยกในแอปส้มราคาแท่งละ12บาทส่วนชานมคือไม่หวานเลยหอมชามากคือดือ  ราคา 39 บาท #รีวิวดองกิ้ #ดองดองกิ #อร่อยไปแดก #ไว้รีวิวห้ามขายของโว้ยยย #arii https://t.co/kPTYfnnHlY',\n",
        "'1551801676922728450' : 'โดนัทหน้ากรอบ อร่อยมาก แป้งนุ่ม หน้าน้ำตาลคาราเมลกรอบๆ ไส้ครีมละมุนดี \\\n",
        "แพรไปเจอที่เซ็นทรัลเวสเกตต์ชั้น 1 หน้า Tops ของร้าน Chubby Dough\\\n",
        "มีทั้งแบบมีไส้ 53.- กับแบบไม่มีไส้เลย 33.-(แต่ชอบแบบมีไส้มากกว่า) @Kin24hrs @aroii #อร่อยไปแดก #อร่อยบอกต่อ https://t.co/kpsKkEbAy1',\n",
        "'1551792654832132097' : 'Black to noodle พัทยา เจ้าเดียวในพัทยา​ เย็นตาโฟน้ำดำ​ ใครยังไม่เคยลอง​ แนะนำเลย น้ำซุปจะเป็นสีดำหวานกลมกล่อม​ กำลังดีค่ะ​ \\\n",
        "กินเสร็จอาจมีความปากดำนิดหน่อย​น๊า​  ปล.ร้านอยู่ในปั้มน้ำมัน​ถนนนาเกลือ​ ไปตาม​ gps​ โล้ด​ #อร่อยไปแดก #อร่อยบอกต่อ @aroii \\\n",
        "@aroiipaiadk https://t.co/szzRbqs7Nd',\n",
        "'1551788475028217857' : 'ห่อหมกผัดทะเลมะพร้าวอ่อน \\\n",
        "(Stir-Fried Red Curry with Seafood Served in a Coconut) \\\n",
        "หนึ่งในเมนูซิกเนเจอร์ของทางร้านที่ไม่ควรพลาด \\\n",
        "#เลอนัวตลาดไท #ตลาดไท สั่งอาหาร Line ID : @lenoircuisineTel. 0846774153 \\\n",
        "#อร่อยไปแดก #อร่อยบอกต่อ #อร่อยจนต้องรีวิว #ของกิน #กินน้ําเยอะๆนะ https://t.co/lDI5o7rEiq'}"
      ],
      "metadata": {
        "id": "qq27a9Ytwbk2"
      },
      "execution_count": null,
      "outputs": []
    },
    {
      "cell_type": "code",
      "source": [
        "#code\n",
        "\n",
        "\n",
        "\n"
      ],
      "metadata": {
        "id": "Ghbw4fYf2cPQ"
      },
      "execution_count": null,
      "outputs": []
    },
    {
      "cell_type": "code",
      "source": [
        "#result\n"
      ],
      "metadata": {
        "colab": {
          "base_uri": "https://localhost:8080/"
        },
        "id": "vf1wsWXp26at",
        "outputId": "527fe242-76a4-4e0b-f894-e56e42af888e"
      },
      "execution_count": null,
      "outputs": [
        {
          "output_type": "stream",
          "name": "stdout",
          "text": [
            "1131\n"
          ]
        }
      ]
    },
    {
      "cell_type": "markdown",
      "source": [
        "###9.Create function for spellcheck and return index."
      ],
      "metadata": {
        "id": "N9llueOh7qBq"
      }
    },
    {
      "cell_type": "code",
      "source": [
        "#code\n",
        "def spell_check(a,b):\n",
        "  idx_check = []\n",
        "  for i in range(len(a)):\n",
        "    if a[i] != b[i]:\n",
        "      idx_check.append(i)\n",
        "  return idx_check"
      ],
      "metadata": {
        "id": "cMuf8CW13bu5"
      },
      "execution_count": null,
      "outputs": []
    },
    {
      "cell_type": "code",
      "source": [
        "#result\n",
        "spell_check('ยามใส่เสื้อคอกระเช้าอยู่กะเช้า','ยามอยู่กะเช้าใส่เสื้อคอกระเช้า')"
      ],
      "metadata": {
        "colab": {
          "base_uri": "https://localhost:8080/"
        },
        "id": "tFuqY_Qn8YJt",
        "outputId": "93ba11c2-438b-4e29-8475-fa9467762fcd"
      },
      "execution_count": null,
      "outputs": [
        {
          "output_type": "execute_result",
          "data": {
            "text/plain": [
              "[3, 4, 5, 6, 7, 8, 9, 10, 11, 12, 13, 14, 15, 17, 18, 19, 21, 22, 23, 24]"
            ]
          },
          "metadata": {},
          "execution_count": 57
        }
      ]
    },
    {
      "cell_type": "markdown",
      "source": [
        "###10.create function for find gmail."
      ],
      "metadata": {
        "id": "cM74Pny7AIRl"
      }
    },
    {
      "cell_type": "code",
      "source": [
        "str_b = 'There is disagreement and confusion about what Taiwan is. It has its own constitution, democratically-elected leaders, \\\n",
        "and about 300,000 active troops in its armed forces. Chiang@gmail.com \\\n",
        "ROC government-in-exile at first claimed to represent the whole of China, which it intended to re-occupy. \\\n",
        "It held China seat on the United Nations Security Council and was recognised by many Western nations as the only Chinese government.'"
      ],
      "metadata": {
        "id": "mGm80sJ_9qnE"
      },
      "execution_count": null,
      "outputs": []
    },
    {
      "cell_type": "code",
      "source": [
        "#code\n",
        "def find_gmail(text):\n",
        "  "
      ],
      "metadata": {
        "id": "VyZZWSNO_l2H"
      },
      "execution_count": null,
      "outputs": []
    },
    {
      "cell_type": "code",
      "source": [
        "#result"
      ],
      "metadata": {
        "colab": {
          "base_uri": "https://localhost:8080/"
        },
        "id": "cK34-nF1Dfhw",
        "outputId": "532acb82-af3c-4e63-dfc5-d7420c8cfd4e"
      },
      "execution_count": null,
      "outputs": [
        {
          "output_type": "stream",
          "name": "stdout",
          "text": [
            "Chiang@gmail.com\n"
          ]
        }
      ]
    },
    {
      "cell_type": "code",
      "source": [
        ""
      ],
      "metadata": {
        "id": "ByuBuzdODtNG"
      },
      "execution_count": null,
      "outputs": []
    }
  ]
}