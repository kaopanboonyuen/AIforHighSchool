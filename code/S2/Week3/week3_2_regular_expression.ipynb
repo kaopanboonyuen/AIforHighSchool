{
  "nbformat": 4,
  "nbformat_minor": 0,
  "metadata": {
    "colab": {
      "name": "week3_2_regular_expression.ipynb",
      "provenance": []
    },
    "kernelspec": {
      "name": "python3",
      "display_name": "Python 3"
    },
    "language_info": {
      "name": "python"
    }
  },
  "cells": [
    {
      "cell_type": "markdown",
      "source": [
        "##Python RegEx\n",
        "A RegEx, or Regular Expression, is a sequence of characters that forms a search pattern.\n",
        "\n",
        "RegEx can be used to check if a string contains the specified search pattern.\n",
        "\n",
        "Python has a built-in package called re, which can be used to work with Regular Expressions.\n",
        "\n",
        "Import the re module\n",
        "\n",
        "ref : https://www.w3schools.com/python/python_regex.asp"
      ],
      "metadata": {
        "id": "qjt_Pp0Aj1Fw"
      }
    },
    {
      "cell_type": "code",
      "execution_count": null,
      "metadata": {
        "id": "14OT8tExisRa"
      },
      "outputs": [],
      "source": [
        "#import module\n",
        "import re"
      ]
    },
    {
      "cell_type": "markdown",
      "source": [
        "##RegEx Functions\n",
        "Function Description <br> <br>\n",
        "findall\t-> Returns a list containing all matches <br>\n",
        "search -> Returns a Match object if there is a match anywhere in the string <br>\n",
        "split\t-> Returns a list where the string has been split at each match <br> \n",
        "sub\t-> Replaces one or many matches with a string "
      ],
      "metadata": {
        "id": "5zMXKiyEn1m9"
      }
    },
    {
      "cell_type": "code",
      "source": [
        "#regex format\n",
        "#re.function(pattern,string)\n",
        "\n",
        "txt = \"The rain in Spain\"\n",
        "x = re.search(\"^The.*Spain$\", txt)\n",
        "\n",
        "if x:\n",
        "  print(\"YES! We have a match!\")\n",
        "else:\n",
        "  print(\"No match\")\n"
      ],
      "metadata": {
        "colab": {
          "base_uri": "https://localhost:8080/"
        },
        "id": "irjm5JrmkFWC",
        "outputId": "03335b55-0265-4124-a940-0a50571a5d83"
      },
      "execution_count": null,
      "outputs": [
        {
          "output_type": "stream",
          "name": "stdout",
          "text": [
            "YES! We have a match!\n"
          ]
        }
      ]
    },
    {
      "cell_type": "code",
      "source": [
        "thai_txt = 'ทนงทวยคงควรคอย'\n",
        "y = re.search(\"^ทนง.*คอย$\", thai_txt)"
      ],
      "metadata": {
        "id": "almJOeKFu0w9"
      },
      "execution_count": null,
      "outputs": []
    },
    {
      "cell_type": "code",
      "source": [
        "print(y)"
      ],
      "metadata": {
        "colab": {
          "base_uri": "https://localhost:8080/"
        },
        "id": "xlCvmdT5vHf5",
        "outputId": "716e0cdd-db98-4780-bd73-66c5d5db3c6b"
      },
      "execution_count": null,
      "outputs": [
        {
          "output_type": "stream",
          "name": "stdout",
          "text": [
            "<re.Match object; span=(0, 14), match='ทนงทวยคงควรคอย'>\n"
          ]
        }
      ]
    },
    {
      "cell_type": "code",
      "source": [
        "if y:\n",
        "  print(\"YES! We have a match!\",' ', thai_txt)\n",
        "else:\n",
        "  print(\"No match\")"
      ],
      "metadata": {
        "colab": {
          "base_uri": "https://localhost:8080/"
        },
        "id": "nkPx4v9bvKUO",
        "outputId": "bb6047a3-c5fe-44a9-d0f3-3885ca90b6dc"
      },
      "execution_count": null,
      "outputs": [
        {
          "output_type": "stream",
          "name": "stdout",
          "text": [
            "YES! We have a match!   ทนงทวยคงควรคอย\n"
          ]
        }
      ]
    },
    {
      "cell_type": "markdown",
      "source": [
        "##Metacharacters\n",
        "Metacharacters are characters with a special meaning:<br><br>\n",
        "\n",
        "Character          | Description         |  Example \n",
        "-------------------|---------------------|-----------\n",
        "[]                 | A set of characters | \"[a-m]\"\n",
        "\\                  | Signals a special sequence <br> (can also be used to escape special characters) | \"\\d\"\n",
        ".                  | Any character (except newline character) | \"he..o\"\n",
        "^                  | Starts with         | \"^hello\"\n",
        "Dollar sign        | Ends with           | \"planet$\"\n",
        "*                  | Zero or more occurrences | \"he.*o\"\n",
        "+                  | One or more occurrences  | \"he.+o\"\n",
        "?                  | Zero or one occurrences  | \"he.?o\"\n",
        "{}                 | Exactly the specified number of occurrences| \"he.{2}o\"\n",
        "\n",
        "\n"
      ],
      "metadata": {
        "id": "mJtQdWH-_Xjx"
      }
    },
    {
      "cell_type": "code",
      "source": [
        "text = \"คุณอดิศรพรสว่างไสวเจิดจ้านครินชัยบดินสินบดีมาเธอร์เอ็ดเวิร์ดโรเบิร์ดฮุค\"\n",
        "\n",
        "#find ก-ง\n",
        "p = '[ก-ง]'\n",
        "r = re.findall(p, text)\n",
        "print(r)"
      ],
      "metadata": {
        "colab": {
          "base_uri": "https://localhost:8080/"
        },
        "id": "u49mYxRPcjqp",
        "outputId": "d221c326-3f61-482b-ca96-b6c98ff75fd5"
      },
      "execution_count": null,
      "outputs": [
        {
          "output_type": "stream",
          "name": "stdout",
          "text": [
            "['ค', 'ง', 'ค', 'ค']\n"
          ]
        }
      ]
    },
    {
      "cell_type": "code",
      "source": [
        "#find ชัยบดิน\n",
        "p = 'ชัย.*ดิน'\n",
        "r = re.findall(p, text)\n",
        "print(r)"
      ],
      "metadata": {
        "colab": {
          "base_uri": "https://localhost:8080/"
        },
        "id": "IQsoFpnEdotB",
        "outputId": "882f820a-112b-46cd-c973-79e1af0ecc2c"
      },
      "execution_count": null,
      "outputs": [
        {
          "output_type": "stream",
          "name": "stdout",
          "text": [
            "['ชัยบดิน']\n"
          ]
        }
      ]
    },
    {
      "cell_type": "code",
      "source": [
        "#find เอ็ดเวิร์ดโรเบิร์ดฮุค\n",
        "p = 'เอ็ดเวิร์ดโรเบิร์ดฮุค$'\n",
        "r = re.findall(p, text)\n",
        "print(r)"
      ],
      "metadata": {
        "colab": {
          "base_uri": "https://localhost:8080/"
        },
        "id": "4lahZbindoy8",
        "outputId": "747109d9-7e20-4aa9-fff2-145a341d8f9c"
      },
      "execution_count": null,
      "outputs": [
        {
          "output_type": "stream",
          "name": "stdout",
          "text": [
            "['เอ็ดเวิร์ดโรเบิร์ดฮุค']\n"
          ]
        }
      ]
    },
    {
      "cell_type": "code",
      "source": [
        ""
      ],
      "metadata": {
        "id": "5d6-lZQvdo2Z"
      },
      "execution_count": null,
      "outputs": []
    },
    {
      "cell_type": "code",
      "source": [
        ""
      ],
      "metadata": {
        "id": "p2aSu3FCdo5l"
      },
      "execution_count": null,
      "outputs": []
    },
    {
      "cell_type": "code",
      "source": [
        ""
      ],
      "metadata": {
        "id": "aY2_oAIcdo8T"
      },
      "execution_count": null,
      "outputs": []
    },
    {
      "cell_type": "markdown",
      "source": [
        "##Special Sequences\n",
        "A special sequence is a \\ followed by one of the characters in the list below, and has a special meaning:<br><br>\n",
        "\n",
        "Character          | Description         |  Example \n",
        "-------------------|---------------------|-----------\n",
        "\\A                 | Returns a match if the specified characters are at the beginning of the string | \"\\AThe\"\n",
        "\\b                 | Returns a match where the specified characters are at the beginning or at the end of a word <br>(the \"r\" in the beginning is making sure that the string is being treated as a \"raw string\") | r\"\\bain\" <br> r\"ain\\b\"\n",
        "\\B                 | Returns a match where the specified characters are present, but NOT at the beginning (or at the end) of a word <br>(the \"r\" in the beginning is making sure that the string is being treated as a \"raw string\") | r\"\\Bain\" <br> r\"ain\\B\"\n",
        "\\d                 | Returns a match where the string contains digits (numbers from 0-9) | \"\\d\"\n",
        "\\D                 | Returns a match where the string DOES NOT contain digits             | \"\\D\"\n",
        "\\s                 | Returns a match where the string contains a white space character    | \"\\s\"\n",
        "\\S                 | Returns a match where the string DOES NOT contain a white space character  | \"\\S\"\n",
        "\\w                 | Returns a match where the string contains any word characters <br> (characters from a to Z, digits from 0-9, and the underscore _ character)  | \"\\w\"\n",
        "\\W                 | Returns a match where the string DOES NOT contain any word characters    | \"\\W\"\n",
        "\\Z                 | Returns a match if the specified characters are at the end of the string    | \"Spain\\Z\""
      ],
      "metadata": {
        "id": "Aonn4f6UV7sX"
      }
    },
    {
      "cell_type": "code",
      "source": [
        "#Number collect\n",
        "\n",
        "text = 'bd84uureoiufkd8jh38fj928790j3hhkfjhlkahnvnnnmeoismfuckyouman69uehjhhbn77'\n",
        "pattern = '\\d'\n",
        "\n",
        "r = re.findall(pattern, text)\n",
        "print(r)"
      ],
      "metadata": {
        "id": "VPdWZ0ClwADX",
        "colab": {
          "base_uri": "https://localhost:8080/"
        },
        "outputId": "d39a1d07-6980-44a0-a30c-80773c42fb9c"
      },
      "execution_count": null,
      "outputs": [
        {
          "output_type": "stream",
          "name": "stdout",
          "text": [
            "['8', '4', '8', '3', '8', '9', '2', '8', '7', '9', '0', '3', '6', '9', '7', '7']\n"
          ]
        }
      ]
    },
    {
      "cell_type": "code",
      "source": [
        "r = re.findall('\\d\\d',text)\n",
        "print(r) "
      ],
      "metadata": {
        "colab": {
          "base_uri": "https://localhost:8080/"
        },
        "id": "Jz3PU4E3Rrye",
        "outputId": "37bdf239-79aa-47ee-d785-d1196e6579d7"
      },
      "execution_count": null,
      "outputs": [
        {
          "output_type": "stream",
          "name": "stdout",
          "text": [
            "['84', '38', '92', '87', '90', '69', '77']\n"
          ]
        }
      ]
    },
    {
      "cell_type": "code",
      "source": [
        "r =re.findall('\\D', text)\n",
        "print(r)"
      ],
      "metadata": {
        "colab": {
          "base_uri": "https://localhost:8080/"
        },
        "id": "SLsQy_tcVCrB",
        "outputId": "b7e056fa-a6df-40aa-ba35-d73fda243ac0"
      },
      "execution_count": null,
      "outputs": [
        {
          "output_type": "stream",
          "name": "stdout",
          "text": [
            "['b', 'd', 'u', 'u', 'r', 'e', 'o', 'i', 'u', 'f', 'k', 'd', 'j', 'h', 'f', 'j', 'j', 'h', 'h', 'k', 'f', 'j', 'h', 'l', 'k', 'a', 'h', 'n', 'v', 'n', 'n', 'n', 'm', 'e', 'o', 'i', 's', 'm', 'f', 'u', 'c', 'k', 'y', 'o', 'u', 'm', 'a', 'n', 'u', 'e', 'h', 'j', 'h', 'h', 'b', 'n']\n"
          ]
        }
      ]
    },
    {
      "cell_type": "markdown",
      "source": [
        "##Sets\n",
        "A set is a set of characters inside a pair of square brackets [] with a special meaning:<br><br>\n",
        "\n",
        "Set                | Description         \n",
        "-------------------|---------------------\n",
        "[arn]              | Returns a match where one of the specified characters (a, r, or n) is present \n",
        "[a-n]              | Returns a match for any lower case character, alphabetically between a and n\n",
        "[^arn]             | Returns a match for any character EXCEPT a, r, and n\n",
        "[0123]             | Returns a match where any of the specified digits (0, 1, 2, or 3) are present\n",
        "[0-9]              | Returns a match for any digit between 0 and 9\n",
        "[0-5][0-9]         | Returns a match for any two-digit numbers from 00 and 59\n",
        "[a-zA-Z]           | Returns a match for any character alphabetically between a and z, lower case OR upper case\n",
        "[+]                | In sets, +, *, ., (), Dollar sign ,{} has no special meaning, so [+] means: return a match for any + character in the string"
      ],
      "metadata": {
        "id": "qV119USghYc9"
      }
    },
    {
      "cell_type": "code",
      "source": [
        "text = '@มีดที่ว่าคม ยังแค่บาดนิ้ว แต่เธอ so cute มันช่างบาดใจ!! : 0887776969'\n",
        "text2 = 'รถติด คือมรดกไทย อนุรักษ์ไว้ให้ลูกหลาน'\n",
        "\n",
        "p = '[a-z]'\n",
        "\n",
        "r = re.findall(p, text)\n",
        "print(r)"
      ],
      "metadata": {
        "colab": {
          "base_uri": "https://localhost:8080/"
        },
        "id": "yhPvFcu1Vi6C",
        "outputId": "094eef76-d4f9-4307-c70a-67a61404c5ec"
      },
      "execution_count": null,
      "outputs": [
        {
          "output_type": "stream",
          "name": "stdout",
          "text": [
            "['s', 'o', 'c', 'u', 't', 'e']\n"
          ]
        }
      ]
    },
    {
      "cell_type": "code",
      "source": [
        "p = '[0-9][0-9][0-9]'\n",
        "r = re.findall(p, text)\n",
        "print(r)"
      ],
      "metadata": {
        "colab": {
          "base_uri": "https://localhost:8080/"
        },
        "id": "u5VjcGwAm8bx",
        "outputId": "6395bc94-b976-489f-8bf7-c80bed9497b6"
      },
      "execution_count": null,
      "outputs": [
        {
          "output_type": "stream",
          "name": "stdout",
          "text": [
            "['088', '777', '696']\n"
          ]
        }
      ]
    },
    {
      "cell_type": "code",
      "source": [
        ""
      ],
      "metadata": {
        "id": "PrNd82WtnliB"
      },
      "execution_count": null,
      "outputs": []
    }
  ]
}