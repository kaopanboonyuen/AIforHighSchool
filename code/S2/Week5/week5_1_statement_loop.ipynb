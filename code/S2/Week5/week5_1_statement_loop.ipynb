{
  "nbformat": 4,
  "nbformat_minor": 0,
  "metadata": {
    "colab": {
      "provenance": [],
      "toc_visible": true
    },
    "kernelspec": {
      "name": "python3",
      "display_name": "Python 3"
    },
    "language_info": {
      "name": "python"
    }
  },
  "cells": [
    {
      "cell_type": "markdown",
      "source": [
        "#Comparison Operators\n",
        "In this lecture we will be learning about Comparison Operators in Python. These operators will allow us to compare variables and output a Boolean value (True or False).\n",
        "\n",
        "If you have any sort of background in Math, these operators should be very straight forward.\n",
        "\n",
        "First we'll present a table of the comparison operators and then work through some examples: \n",
        "ref : https://github.com/Pierian-Data/Complete-Python-3-Bootcamp/blob/master/01-Python%20Comparison%20Operators/01-Comparison%20Operators.ipynb\n",
        "\n",
        "##Table of Comparison Operators\n",
        "In the table below, a=3 and b=4.\n",
        "\n",
        "Operator|Description|Example\n",
        "--------|-----------|------------------\n",
        "==\t    |If the values of two operands are equal, then the condition becomes true.\t |(a == b) is not true.\n",
        "!=\t    |If values of two operands are not equal, then condition becomes true.\t      |(a != b) is true\n",
        ">\t      |If the value of left operand is greater than the value of right operand, then condition becomes true.\t|(a > b) is not true.\n",
        "<\t      |If the value of left operand is less than the value of right operand, then condition becomes true.\t|(a < b) is true.\n",
        ">=\t    |If the value of left operand is greater than or equal to the value of right operand, then condition becomes true.\t|(a >= b) is not true.\n",
        "<=\t    |If the value of left operand is less than or equal to the value of right operand, then condition becomes true.\t|(a <= b) is true.\n"
      ],
      "metadata": {
        "id": "0T4cr01-Ddom"
      }
    },
    {
      "cell_type": "markdown",
      "source": [
        "##Equal"
      ],
      "metadata": {
        "id": "bQvGe1etA1FA"
      }
    },
    {
      "cell_type": "code",
      "source": [
        "2 == 2"
      ],
      "metadata": {
        "colab": {
          "base_uri": "https://localhost:8080/"
        },
        "id": "-XlC3JZDA4T0",
        "outputId": "7f480e79-dc4c-4231-918b-6ea30a8f6cb1"
      },
      "execution_count": null,
      "outputs": [
        {
          "output_type": "execute_result",
          "data": {
            "text/plain": [
              "True"
            ]
          },
          "metadata": {},
          "execution_count": 1
        }
      ]
    },
    {
      "cell_type": "code",
      "source": [
        "1 == 0"
      ],
      "metadata": {
        "colab": {
          "base_uri": "https://localhost:8080/"
        },
        "id": "1BQjhLq6A4bf",
        "outputId": "f527bb59-c646-4675-9efd-686a2a2fb765"
      },
      "execution_count": null,
      "outputs": [
        {
          "output_type": "execute_result",
          "data": {
            "text/plain": [
              "False"
            ]
          },
          "metadata": {},
          "execution_count": 2
        }
      ]
    },
    {
      "cell_type": "markdown",
      "source": [
        "##Not Equal"
      ],
      "metadata": {
        "id": "dHGa2xddBA-Q"
      }
    },
    {
      "cell_type": "code",
      "source": [
        "2 != 1"
      ],
      "metadata": {
        "id": "p3Y2sPFUFilo",
        "colab": {
          "base_uri": "https://localhost:8080/"
        },
        "outputId": "91734642-6a48-42c8-b1bf-84da32877e9f"
      },
      "execution_count": null,
      "outputs": [
        {
          "output_type": "execute_result",
          "data": {
            "text/plain": [
              "True"
            ]
          },
          "metadata": {},
          "execution_count": 3
        }
      ]
    },
    {
      "cell_type": "code",
      "source": [
        "2 != 2"
      ],
      "metadata": {
        "colab": {
          "base_uri": "https://localhost:8080/"
        },
        "id": "EO-SYtgQFj5n",
        "outputId": "8833241b-ddb7-47da-d942-594c4b01d06b"
      },
      "execution_count": null,
      "outputs": [
        {
          "output_type": "execute_result",
          "data": {
            "text/plain": [
              "False"
            ]
          },
          "metadata": {},
          "execution_count": 4
        }
      ]
    },
    {
      "cell_type": "markdown",
      "source": [
        "##Greater Than"
      ],
      "metadata": {
        "id": "bztdBAuvBJs6"
      }
    },
    {
      "cell_type": "code",
      "source": [
        "2 > 1"
      ],
      "metadata": {
        "id": "HWrLIdUFFkAl",
        "colab": {
          "base_uri": "https://localhost:8080/"
        },
        "outputId": "6a00effe-fbec-4f25-e603-541d15f517b0"
      },
      "execution_count": null,
      "outputs": [
        {
          "output_type": "execute_result",
          "data": {
            "text/plain": [
              "True"
            ]
          },
          "metadata": {},
          "execution_count": 5
        }
      ]
    },
    {
      "cell_type": "code",
      "source": [
        "2 > 4"
      ],
      "metadata": {
        "colab": {
          "base_uri": "https://localhost:8080/"
        },
        "id": "ScTdeImeFkGf",
        "outputId": "d3566405-f440-493a-f9bf-316d43f6a6a0"
      },
      "execution_count": null,
      "outputs": [
        {
          "output_type": "execute_result",
          "data": {
            "text/plain": [
              "False"
            ]
          },
          "metadata": {},
          "execution_count": 6
        }
      ]
    },
    {
      "cell_type": "markdown",
      "source": [
        "##Less Than"
      ],
      "metadata": {
        "id": "VKQm6kzFBUGD"
      }
    },
    {
      "cell_type": "code",
      "source": [
        "2 < 4"
      ],
      "metadata": {
        "colab": {
          "base_uri": "https://localhost:8080/"
        },
        "id": "sHwi0d0oBXGm",
        "outputId": "2e4e76bc-724f-4fa4-f27e-0d70c01d8f0a"
      },
      "execution_count": null,
      "outputs": [
        {
          "output_type": "execute_result",
          "data": {
            "text/plain": [
              "True"
            ]
          },
          "metadata": {},
          "execution_count": 7
        }
      ]
    },
    {
      "cell_type": "code",
      "source": [
        "2 < 1"
      ],
      "metadata": {
        "colab": {
          "base_uri": "https://localhost:8080/"
        },
        "id": "dx47StyrBXK0",
        "outputId": "824bf9a0-cd3d-4995-f589-442733313126"
      },
      "execution_count": null,
      "outputs": [
        {
          "output_type": "execute_result",
          "data": {
            "text/plain": [
              "False"
            ]
          },
          "metadata": {},
          "execution_count": 8
        }
      ]
    },
    {
      "cell_type": "markdown",
      "source": [
        "##Greater Than or Equal to"
      ],
      "metadata": {
        "id": "MVGYFZw-IzQG"
      }
    },
    {
      "cell_type": "code",
      "source": [
        "2 >= 2"
      ],
      "metadata": {
        "id": "hvnAArVZJAWq"
      },
      "execution_count": null,
      "outputs": []
    },
    {
      "cell_type": "code",
      "source": [
        "2 >= 1"
      ],
      "metadata": {
        "id": "G3h397YiJAZ6",
        "colab": {
          "base_uri": "https://localhost:8080/"
        },
        "outputId": "ada09095-0911-4842-92ff-79ce3601f729"
      },
      "execution_count": null,
      "outputs": [
        {
          "output_type": "execute_result",
          "data": {
            "text/plain": [
              "True"
            ]
          },
          "metadata": {},
          "execution_count": 10
        }
      ]
    },
    {
      "cell_type": "markdown",
      "source": [
        "##Less than or Equal to"
      ],
      "metadata": {
        "id": "79Gyg97hJMan"
      }
    },
    {
      "cell_type": "code",
      "source": [
        "2 <= 2"
      ],
      "metadata": {
        "id": "NZ2D4-yzJAgN",
        "colab": {
          "base_uri": "https://localhost:8080/"
        },
        "outputId": "ad79db20-5839-48aa-87dd-755d95f87736"
      },
      "execution_count": null,
      "outputs": [
        {
          "output_type": "execute_result",
          "data": {
            "text/plain": [
              "True"
            ]
          },
          "metadata": {},
          "execution_count": 11
        }
      ]
    },
    {
      "cell_type": "code",
      "source": [
        "2 <= 4"
      ],
      "metadata": {
        "colab": {
          "base_uri": "https://localhost:8080/"
        },
        "id": "swl5nOm5JAi5",
        "outputId": "439468b2-5005-463c-9f76-7c215efa099e"
      },
      "execution_count": null,
      "outputs": [
        {
          "output_type": "execute_result",
          "data": {
            "text/plain": [
              "True"
            ]
          },
          "metadata": {},
          "execution_count": 12
        }
      ]
    },
    {
      "cell_type": "markdown",
      "source": [
        "#Chained Comparison Operators\n",
        "An interesting feature of Python is the ability to chain multiple comparisons to perform a more complex test. You can use these chained comparisons as shorthand for larger Boolean Expressions.\n",
        "\n",
        "In this lecture we will learn how to chain comparison operators and we will also introduce two other important statements in Python: and and or.\n",
        "\n",
        "ref : https://github.com/Pierian-Data/Complete-Python-3-Bootcamp/blob/master/01-Python%20Comparison%20Operators/02-Chained%20Comparison%20Operators.ipynb"
      ],
      "metadata": {
        "id": "0ijPQhKaJ9yU"
      }
    },
    {
      "cell_type": "code",
      "source": [
        "1 < 2 < 3"
      ],
      "metadata": {
        "colab": {
          "base_uri": "https://localhost:8080/"
        },
        "id": "CIz2vouuKn2K",
        "outputId": "b0f4550c-64f9-437e-b9d2-921503389802"
      },
      "execution_count": null,
      "outputs": [
        {
          "output_type": "execute_result",
          "data": {
            "text/plain": [
              "True"
            ]
          },
          "metadata": {},
          "execution_count": 13
        }
      ]
    },
    {
      "cell_type": "code",
      "source": [
        "1<2 and 2<3"
      ],
      "metadata": {
        "id": "W6XtP8bOKn5w",
        "colab": {
          "base_uri": "https://localhost:8080/"
        },
        "outputId": "a869cedc-da26-49bc-cc34-c263bd67eb62"
      },
      "execution_count": null,
      "outputs": [
        {
          "output_type": "execute_result",
          "data": {
            "text/plain": [
              "True"
            ]
          },
          "metadata": {},
          "execution_count": 14
        }
      ]
    },
    {
      "cell_type": "code",
      "source": [
        "1 < 3 > 2"
      ],
      "metadata": {
        "colab": {
          "base_uri": "https://localhost:8080/"
        },
        "id": "895K7hZjKn9a",
        "outputId": "c2bb56d6-26e2-4d00-d4b5-31d6cfb552d2"
      },
      "execution_count": null,
      "outputs": [
        {
          "output_type": "execute_result",
          "data": {
            "text/plain": [
              "True"
            ]
          },
          "metadata": {},
          "execution_count": 15
        }
      ]
    },
    {
      "cell_type": "code",
      "source": [
        "1<3 and 3>2"
      ],
      "metadata": {
        "colab": {
          "base_uri": "https://localhost:8080/"
        },
        "id": "DS2AIXi3CMcj",
        "outputId": "1122e192-26a8-4e03-86ee-bf6d39f512fe"
      },
      "execution_count": null,
      "outputs": [
        {
          "output_type": "execute_result",
          "data": {
            "text/plain": [
              "True"
            ]
          },
          "metadata": {},
          "execution_count": 17
        }
      ]
    },
    {
      "cell_type": "code",
      "source": [
        "1==2 or 2<3"
      ],
      "metadata": {
        "colab": {
          "base_uri": "https://localhost:8080/"
        },
        "id": "VSypp0t0CO_r",
        "outputId": "9ebf91da-cb95-4710-c588-7d5dccb25559"
      },
      "execution_count": null,
      "outputs": [
        {
          "output_type": "execute_result",
          "data": {
            "text/plain": [
              "True"
            ]
          },
          "metadata": {},
          "execution_count": 18
        }
      ]
    },
    {
      "cell_type": "code",
      "source": [
        "1==1 or 100==1"
      ],
      "metadata": {
        "colab": {
          "base_uri": "https://localhost:8080/"
        },
        "id": "X5yBvm1OCPGj",
        "outputId": "9af27b5a-4535-4aa6-9366-6452e47361ff"
      },
      "execution_count": null,
      "outputs": [
        {
          "output_type": "execute_result",
          "data": {
            "text/plain": [
              "True"
            ]
          },
          "metadata": {},
          "execution_count": 19
        }
      ]
    },
    {
      "cell_type": "markdown",
      "source": [
        "#Python Statements\n",
        "##if, elif, else Statements\n",
        "if Statements in Python allows us to tell the computer to perform alternative actions based on a certain set of results.\n",
        "\n",
        "Verbally, we can imagine we are telling the computer:\n",
        "\n",
        "\"Hey if this case happens, perform some action\"\n",
        "\n",
        "We can then expand the idea further with elif and else statements, which allow us to tell the computer:\n",
        "\n",
        "\"Hey if this case happens, perform some action. Else, if another case happens, perform some other action. Else, if none of the above cases happened, perform this action.\"\n",
        "\n",
        "Let's go ahead and look at the syntax format for if statements to get a better idea of this: <br>\n",
        "\n",
        ">if case1:\n",
        "    >>perform action1 \n",
        "\n",
        ">elif case2:\n",
        "    >>perform action2 \n",
        "\n",
        ">else: \n",
        "    >>perform action3\n",
        "\n",
        "ref : https://github.com/Pierian-Data/Complete-Python-3-Bootcamp/blob/master/02-Python%20Statements/02-if%2C%20elif%2C%20and%20else%20Statements.ipynb"
      ],
      "metadata": {
        "id": "llVzCKCNK8Je"
      }
    },
    {
      "cell_type": "code",
      "source": [
        "if True:\n",
        "    print('It was true!')"
      ],
      "metadata": {
        "colab": {
          "base_uri": "https://localhost:8080/"
        },
        "id": "0LbAgYg4OdUc",
        "outputId": "11cc2e86-71a8-462e-e164-704c85933f39"
      },
      "execution_count": null,
      "outputs": [
        {
          "output_type": "stream",
          "name": "stdout",
          "text": [
            "It was true!\n"
          ]
        }
      ]
    },
    {
      "cell_type": "code",
      "source": [
        "x = False\n",
        "\n",
        "if x:\n",
        "    print('x was True!')\n",
        "else:\n",
        "    print('I will be printed in any case where x is not true')"
      ],
      "metadata": {
        "id": "HXBomM5YO07j",
        "colab": {
          "base_uri": "https://localhost:8080/"
        },
        "outputId": "03654e67-05d8-4cb4-e533-7bda6ff56c00"
      },
      "execution_count": null,
      "outputs": [
        {
          "output_type": "stream",
          "name": "stdout",
          "text": [
            "I will be printed in any case where x is not true\n"
          ]
        }
      ]
    },
    {
      "cell_type": "markdown",
      "source": [
        "##Multiple Branches\n",
        "Let's get a fuller picture of how far if, elif, and else can take us!\n",
        "\n",
        "We write this out in a nested structure. Take note of how the if, elif, and else line up in the code. This can help you see what if is related to what elif or else statements.\n",
        "\n",
        "We'll reintroduce a comparison syntax for Python."
      ],
      "metadata": {
        "id": "N4WX_O1fE65O"
      }
    },
    {
      "cell_type": "code",
      "source": [
        "loc = 'Bank'\n",
        "\n",
        "if loc == 'Auto Shop':\n",
        "    print('Welcome to the Auto Shop!')\n",
        "elif loc == 'Bank':\n",
        "    print('Welcome to the bank!')\n",
        "else:\n",
        "    print('Where are you?')"
      ],
      "metadata": {
        "colab": {
          "base_uri": "https://localhost:8080/"
        },
        "id": "H2x0QXP1E51P",
        "outputId": "0fda43d9-05b5-45c7-f1c6-3f5821116548"
      },
      "execution_count": null,
      "outputs": [
        {
          "output_type": "stream",
          "name": "stdout",
          "text": [
            "Welcome to the bank!\n"
          ]
        }
      ]
    },
    {
      "cell_type": "code",
      "source": [
        "person = 'Sammy'\n",
        "\n",
        "if person == 'Sammy':\n",
        "    print('Welcome Sammy!')\n",
        "else:\n",
        "    print(\"Welcome, what's your name?\")"
      ],
      "metadata": {
        "colab": {
          "base_uri": "https://localhost:8080/"
        },
        "id": "9G03BfS-E59r",
        "outputId": "68ac7fc0-94f0-4c40-a4b5-94530b500223"
      },
      "execution_count": null,
      "outputs": [
        {
          "output_type": "stream",
          "name": "stdout",
          "text": [
            "Welcome Sammy!\n"
          ]
        }
      ]
    },
    {
      "cell_type": "code",
      "source": [
        "person = 'George'\n",
        "\n",
        "if person == 'Sammy':\n",
        "    print('Welcome Sammy!')\n",
        "elif person =='George':\n",
        "    print('Welcome George!')\n",
        "else:\n",
        "    print(\"Welcome, what's your name?\")"
      ],
      "metadata": {
        "colab": {
          "base_uri": "https://localhost:8080/"
        },
        "id": "vYJT8IFIFHWb",
        "outputId": "d83a3a0e-7fb3-4d00-c2ce-2fb260b35ed2"
      },
      "execution_count": null,
      "outputs": [
        {
          "output_type": "stream",
          "name": "stdout",
          "text": [
            "Welcome George!\n"
          ]
        }
      ]
    },
    {
      "cell_type": "markdown",
      "source": [
        "##for Loops\n",
        "A for loop acts as an iterator in Python; it goes through items that are in a sequence or any other iterable item. Objects that we've learned about that we can iterate over include strings, lists, tuples, and even built-in iterables for dictionaries, such as keys or values.\n",
        "\n",
        "We've already seen the for statement a little bit in past lectures but now let's formalize our understanding.\n",
        "\n",
        "Here's the general format for a for loop in Python:\n",
        "\n",
        ">for item in object:\n",
        "    >>statements to do stuff\n",
        "    \n",
        "The variable name used for the item is completely up to the coder, so use your best judgment for choosing a name that makes sense and you will be able to understand when revisiting your code. This item name can then be referenced inside your loop, for example if you wanted to use if statements to perform checks.\n",
        "\n",
        "ref : https://github.com/Pierian-Data/Complete-Python-3-Bootcamp/blob/master/02-Python%20Statements/03-for%20Loops.ipynb"
      ],
      "metadata": {
        "id": "jFlwetyrSylU"
      }
    },
    {
      "cell_type": "markdown",
      "source": [
        "###Example 1 \n",
        "\n",
        "iterating through a list"
      ],
      "metadata": {
        "id": "e6XzQ7ZZFz9z"
      }
    },
    {
      "cell_type": "code",
      "source": [
        "# We'll learn how to automate this sort of list in the next lecture\n",
        "list1 = [1,2,3,4,5,6,7,8,9,10]"
      ],
      "metadata": {
        "id": "1r1HUa9CR8GQ"
      },
      "execution_count": null,
      "outputs": []
    },
    {
      "cell_type": "code",
      "source": [
        "for num in list1:\n",
        "    print(num)"
      ],
      "metadata": {
        "id": "Wsmhp20IR8Zf",
        "colab": {
          "base_uri": "https://localhost:8080/"
        },
        "outputId": "2648310e-8f8a-4842-90d7-8b854bd2b26f"
      },
      "execution_count": null,
      "outputs": [
        {
          "output_type": "stream",
          "name": "stdout",
          "text": [
            "1\n",
            "2\n",
            "3\n",
            "4\n",
            "5\n",
            "6\n",
            "7\n",
            "8\n",
            "9\n",
            "10\n"
          ]
        }
      ]
    },
    {
      "cell_type": "markdown",
      "source": [
        "###Example 2\n",
        "\n",
        "let's print only the even numbers from that list!"
      ],
      "metadata": {
        "id": "4nTdKk7FGKXW"
      }
    },
    {
      "cell_type": "code",
      "source": [
        "for num in list1:\n",
        "    if num % 2 == 0:\n",
        "        print(num)"
      ],
      "metadata": {
        "colab": {
          "base_uri": "https://localhost:8080/"
        },
        "id": "avAzx2IHR8dE",
        "outputId": "ddb6e542-4da2-4b39-d34f-b56143716d4c"
      },
      "execution_count": null,
      "outputs": [
        {
          "output_type": "stream",
          "name": "stdout",
          "text": [
            "2\n",
            "4\n",
            "6\n",
            "8\n",
            "10\n"
          ]
        }
      ]
    },
    {
      "cell_type": "code",
      "source": [
        "for num in list1:\n",
        "    if num % 2 == 0:\n",
        "        print(num)\n",
        "    else:\n",
        "        print('Odd number')"
      ],
      "metadata": {
        "colab": {
          "base_uri": "https://localhost:8080/"
        },
        "id": "_SX8sOPAGVF5",
        "outputId": "c4430918-11cc-4f5c-e3e7-c9f059308405"
      },
      "execution_count": null,
      "outputs": [
        {
          "output_type": "stream",
          "name": "stdout",
          "text": [
            "Odd number\n",
            "2\n",
            "Odd number\n",
            "4\n",
            "Odd number\n",
            "6\n",
            "Odd number\n",
            "8\n",
            "Odd number\n",
            "10\n"
          ]
        }
      ]
    },
    {
      "cell_type": "markdown",
      "source": [
        "###Example 3\n",
        "\n",
        "Another common idea during a for loop is keeping some sort of running tally during multiple loops. For example, let's create a for loop that sums up the list:"
      ],
      "metadata": {
        "id": "4qMckw37Ggu7"
      }
    },
    {
      "cell_type": "code",
      "source": [
        "# Start sum at zero\n",
        "list_sum = 0 \n",
        "\n",
        "for num in list1:\n",
        "    list_sum = list_sum + num\n",
        "\n",
        "print(list_sum)"
      ],
      "metadata": {
        "colab": {
          "base_uri": "https://localhost:8080/"
        },
        "id": "u_2x4mpXGn4R",
        "outputId": "e9b8586b-508d-4e81-981c-53eab459e98c"
      },
      "execution_count": null,
      "outputs": [
        {
          "output_type": "stream",
          "name": "stdout",
          "text": [
            "55\n"
          ]
        }
      ]
    },
    {
      "cell_type": "code",
      "source": [
        "# Start sum at zero\n",
        "list_sum = 0 \n",
        "\n",
        "for num in list1:\n",
        "    list_sum += num\n",
        "\n",
        "print(list_sum)"
      ],
      "metadata": {
        "colab": {
          "base_uri": "https://localhost:8080/"
        },
        "id": "WlNffyMbGn-X",
        "outputId": "cc959d16-f5cc-484f-f594-77c4c135f407"
      },
      "execution_count": null,
      "outputs": [
        {
          "output_type": "stream",
          "name": "stdout",
          "text": [
            "55\n"
          ]
        }
      ]
    },
    {
      "cell_type": "markdown",
      "source": [
        "###Example 4\n",
        "\n",
        "We've used for loops with lists, how about with strings? Remember strings are a sequence so when we iterate through them we will be accessing each item in that string."
      ],
      "metadata": {
        "id": "hsOINpO2GxKG"
      }
    },
    {
      "cell_type": "code",
      "source": [
        "for letter in 'This is a string.':\n",
        "    print(letter)"
      ],
      "metadata": {
        "colab": {
          "base_uri": "https://localhost:8080/"
        },
        "id": "NE_tiTvNG3x4",
        "outputId": "65e4407c-4b5b-404f-b125-1b93e5a7094f"
      },
      "execution_count": null,
      "outputs": [
        {
          "output_type": "stream",
          "name": "stdout",
          "text": [
            "T\n",
            "h\n",
            "i\n",
            "s\n",
            " \n",
            "i\n",
            "s\n",
            " \n",
            "a\n",
            " \n",
            "s\n",
            "t\n",
            "r\n",
            "i\n",
            "n\n",
            "g\n",
            ".\n"
          ]
        }
      ]
    },
    {
      "cell_type": "markdown",
      "source": [
        "###Example 5\n",
        "\n",
        "Let's now look at how a for loop can be used with a tuple:"
      ],
      "metadata": {
        "id": "pSspCKwRG96x"
      }
    },
    {
      "cell_type": "code",
      "source": [
        "tup = (1,2,3,4,5)\n",
        "\n",
        "for t in tup:\n",
        "    print(t)"
      ],
      "metadata": {
        "colab": {
          "base_uri": "https://localhost:8080/"
        },
        "id": "vNLlnTNKG32N",
        "outputId": "d5b469ca-e45d-46c2-e1f6-6717a6a8fa7e"
      },
      "execution_count": null,
      "outputs": [
        {
          "output_type": "stream",
          "name": "stdout",
          "text": [
            "1\n",
            "2\n",
            "3\n",
            "4\n",
            "5\n"
          ]
        }
      ]
    },
    {
      "cell_type": "markdown",
      "source": [
        "###Example 6\n",
        "\n",
        "Tuples have a special quality when it comes to for loops. If you are iterating through a sequence that contains tuples, the item can actually be the tuple itself, this is an example of tuple unpacking. During the for loop we will be unpacking the tuple inside of a sequence and we can access the individual items inside that tuple!"
      ],
      "metadata": {
        "id": "Y9HIyjpcHGUl"
      }
    },
    {
      "cell_type": "code",
      "source": [
        "list2 = [(2,4),(6,8),(10,12)]"
      ],
      "metadata": {
        "id": "tRsTuWpXG37R"
      },
      "execution_count": null,
      "outputs": []
    },
    {
      "cell_type": "code",
      "source": [
        "for tup in list2:\n",
        "    print(tup)"
      ],
      "metadata": {
        "colab": {
          "base_uri": "https://localhost:8080/"
        },
        "id": "qzxD5iWLHRFi",
        "outputId": "315ea137-928e-478d-c285-d4e11502bb80"
      },
      "execution_count": null,
      "outputs": [
        {
          "output_type": "stream",
          "name": "stdout",
          "text": [
            "(2, 4)\n",
            "(6, 8)\n",
            "(10, 12)\n"
          ]
        }
      ]
    },
    {
      "cell_type": "code",
      "source": [
        "# Now with unpacking!\n",
        "for (t1,t2) in list2:\n",
        "    print(t1)"
      ],
      "metadata": {
        "colab": {
          "base_uri": "https://localhost:8080/"
        },
        "id": "kzF8wjlrHRK9",
        "outputId": "ce03e43d-3b26-4933-959a-42399c44707a"
      },
      "execution_count": null,
      "outputs": [
        {
          "output_type": "stream",
          "name": "stdout",
          "text": [
            "2\n",
            "6\n",
            "10\n"
          ]
        }
      ]
    },
    {
      "cell_type": "markdown",
      "source": [
        "###Example 7\n",
        "Dictionary loop"
      ],
      "metadata": {
        "id": "hg-Y-Uh0T51a"
      }
    },
    {
      "cell_type": "code",
      "source": [
        "d = {'k1':1,'k2':2,'k3':3}"
      ],
      "metadata": {
        "id": "EumjwK9WHlQg"
      },
      "execution_count": null,
      "outputs": []
    },
    {
      "cell_type": "code",
      "source": [
        "for item in d:\n",
        "    print(item)"
      ],
      "metadata": {
        "colab": {
          "base_uri": "https://localhost:8080/"
        },
        "id": "vt1nMgKtHlV9",
        "outputId": "09357a4a-b40c-4e97-abb9-ceb392137c24"
      },
      "execution_count": null,
      "outputs": [
        {
          "output_type": "stream",
          "name": "stdout",
          "text": [
            "k1\n",
            "k2\n",
            "k3\n"
          ]
        }
      ]
    },
    {
      "cell_type": "markdown",
      "source": [
        "Notice how this produces only the keys. So how can we get the values? Or both the keys and the values?\n",
        "\n",
        "We're going to introduce three new Dictionary methods: **.keys()**, **.values()** and **.items()**\n",
        "\n",
        "In Python each of these methods return a dictionary view object. It supports operations like membership test and iteration, but its contents are not independent of the original dictionary – it is only a view. Let's see it in action:"
      ],
      "metadata": {
        "id": "OUIeyrFtHxxM"
      }
    },
    {
      "cell_type": "code",
      "source": [
        "# Create a dictionary view object\n",
        "d.items()"
      ],
      "metadata": {
        "id": "LFx_Ap2BR8gD",
        "colab": {
          "base_uri": "https://localhost:8080/"
        },
        "outputId": "1013bdc2-5a80-495e-ff60-a8cafda17f34"
      },
      "execution_count": null,
      "outputs": [
        {
          "output_type": "execute_result",
          "data": {
            "text/plain": [
              "dict_items([('k1', 1), ('k2', 2), ('k3', 3)])"
            ]
          },
          "metadata": {},
          "execution_count": 38
        }
      ]
    },
    {
      "cell_type": "code",
      "source": [
        "# Dictionary unpacking\n",
        "for k,v in d.items():\n",
        "    print(k)\n",
        "    print(v) "
      ],
      "metadata": {
        "colab": {
          "base_uri": "https://localhost:8080/"
        },
        "id": "5p0v0bS9R8jK",
        "outputId": "f783b55f-5093-4839-957a-4ced16419c9c"
      },
      "execution_count": null,
      "outputs": [
        {
          "output_type": "stream",
          "name": "stdout",
          "text": [
            "k1\n",
            "1\n",
            "k2\n",
            "2\n",
            "k3\n",
            "3\n"
          ]
        }
      ]
    },
    {
      "cell_type": "code",
      "source": [
        "list(d.keys())"
      ],
      "metadata": {
        "colab": {
          "base_uri": "https://localhost:8080/"
        },
        "id": "u3J2oaxwR8lt",
        "outputId": "cf689f38-f9e4-432c-ef93-b9389eb30882"
      },
      "execution_count": null,
      "outputs": [
        {
          "output_type": "execute_result",
          "data": {
            "text/plain": [
              "['k1', 'k2', 'k3']"
            ]
          },
          "metadata": {},
          "execution_count": 40
        }
      ]
    },
    {
      "cell_type": "code",
      "source": [
        "sorted(d.values())"
      ],
      "metadata": {
        "colab": {
          "base_uri": "https://localhost:8080/"
        },
        "id": "rfzyUh6PUT_k",
        "outputId": "ab7c5055-93b7-410d-907b-b3364f00367f"
      },
      "execution_count": null,
      "outputs": [
        {
          "output_type": "execute_result",
          "data": {
            "text/plain": [
              "[1, 2, 3]"
            ]
          },
          "metadata": {},
          "execution_count": 41
        }
      ]
    },
    {
      "cell_type": "markdown",
      "source": [
        "###Conclusion\n",
        "We've learned how to use for loops to iterate through tuples, lists, strings, and dictionaries. It will be an important tool for us, so make sure you know it well and understood the above examples."
      ],
      "metadata": {
        "id": "CNNDUcFiUqeo"
      }
    },
    {
      "cell_type": "markdown",
      "source": [
        "##while Loops\n",
        "The while statement in Python is one of most general ways to perform iteration. A while statement will repeatedly execute a single statement or group of statements as long as the condition is true. The reason it is called a 'loop' is because the code statements are looped through over and over again until the condition is no longer met.\n",
        "\n",
        "The general format of a while loop is:\n",
        "\n",
        ">while test:\n",
        "    >>code statements\n",
        "\n",
        ">else:\n",
        "    >>final code statements\n",
        "\n",
        "Let’s look at a few simple while loops in action."
      ],
      "metadata": {
        "id": "govdu0VQIm5V"
      }
    },
    {
      "cell_type": "code",
      "source": [
        "x = 0\n",
        "\n",
        "while x < 10:\n",
        "    print('x is currently: ',x)\n",
        "    print(' x is still less than 10, adding 1 to x')\n",
        "    x+=1"
      ],
      "metadata": {
        "id": "qg4OcxYrVShg",
        "colab": {
          "base_uri": "https://localhost:8080/"
        },
        "outputId": "70451a9c-e8e8-44b5-b201-67a1fb89d4ab"
      },
      "execution_count": null,
      "outputs": [
        {
          "output_type": "stream",
          "name": "stdout",
          "text": [
            "x is currently:  0\n",
            " x is still less than 10, adding 1 to x\n",
            "x is currently:  1\n",
            " x is still less than 10, adding 1 to x\n",
            "x is currently:  2\n",
            " x is still less than 10, adding 1 to x\n",
            "x is currently:  3\n",
            " x is still less than 10, adding 1 to x\n",
            "x is currently:  4\n",
            " x is still less than 10, adding 1 to x\n",
            "x is currently:  5\n",
            " x is still less than 10, adding 1 to x\n",
            "x is currently:  6\n",
            " x is still less than 10, adding 1 to x\n",
            "x is currently:  7\n",
            " x is still less than 10, adding 1 to x\n",
            "x is currently:  8\n",
            " x is still less than 10, adding 1 to x\n",
            "x is currently:  9\n",
            " x is still less than 10, adding 1 to x\n"
          ]
        }
      ]
    },
    {
      "cell_type": "code",
      "source": [
        "x = 0\n",
        "\n",
        "while x < 10:\n",
        "    print('x is currently: ',x)\n",
        "    print(' x is still less than 10, adding 1 to x')\n",
        "    x+=1\n",
        "    \n",
        "else:\n",
        "    print('All Done!')"
      ],
      "metadata": {
        "id": "NlnYJzvXVSrY",
        "colab": {
          "base_uri": "https://localhost:8080/"
        },
        "outputId": "160a7c54-7540-40f1-9edb-77877fdfdb86"
      },
      "execution_count": null,
      "outputs": [
        {
          "output_type": "stream",
          "name": "stdout",
          "text": [
            "x is currently:  0\n",
            " x is still less than 10, adding 1 to x\n",
            "x is currently:  1\n",
            " x is still less than 10, adding 1 to x\n",
            "x is currently:  2\n",
            " x is still less than 10, adding 1 to x\n",
            "x is currently:  3\n",
            " x is still less than 10, adding 1 to x\n",
            "x is currently:  4\n",
            " x is still less than 10, adding 1 to x\n",
            "x is currently:  5\n",
            " x is still less than 10, adding 1 to x\n",
            "x is currently:  6\n",
            " x is still less than 10, adding 1 to x\n",
            "x is currently:  7\n",
            " x is still less than 10, adding 1 to x\n",
            "x is currently:  8\n",
            " x is still less than 10, adding 1 to x\n",
            "x is currently:  9\n",
            " x is still less than 10, adding 1 to x\n",
            "All Done!\n"
          ]
        }
      ]
    },
    {
      "cell_type": "markdown",
      "source": [
        "###break, continue, pass\n",
        "We can use break, continue, and pass statements in our loops to add additional functionality for various cases. The three statements are defined by:\n",
        "\n",
        "break: Breaks out of the current closest enclosing loop.\n",
        "continue: Goes to the top of the closest enclosing loop.\n",
        "pass: Does nothing at all.\n",
        "\n",
        "\n",
        "Thinking about break and continue statements, the general format of the while loop looks like this:\n",
        "\n",
        "```python\n",
        "while test: \n",
        "    code statement\n",
        "    if test: \n",
        "      break\n",
        "    if test: \n",
        "      continue \n",
        "else:\n",
        "```\n",
        "**break** and **continue** statements can appear anywhere inside the loop’s body, but we will usually put them further nested in conjunction with an if statement to perform an action based on some condition."
      ],
      "metadata": {
        "id": "H8Ld5fd2I93W"
      }
    },
    {
      "cell_type": "code",
      "source": [
        "x = 0\n",
        "\n",
        "while x < 10:\n",
        "    print('x is currently: ',x)\n",
        "    print(' x is still less than 10, adding 1 to x')\n",
        "    x+=1\n",
        "    if x==3:\n",
        "        print('x==3')\n",
        "    else:\n",
        "        print('continuing...')\n",
        "        continue"
      ],
      "metadata": {
        "colab": {
          "base_uri": "https://localhost:8080/"
        },
        "id": "4NZSwfckVSuY",
        "outputId": "4b59ee74-ee01-4142-dcf2-ff20e0797dc3"
      },
      "execution_count": null,
      "outputs": [
        {
          "output_type": "stream",
          "name": "stdout",
          "text": [
            "x is currently:  0\n",
            " x is still less than 10, adding 1 to x\n",
            "continuing...\n",
            "x is currently:  1\n",
            " x is still less than 10, adding 1 to x\n",
            "continuing...\n",
            "x is currently:  2\n",
            " x is still less than 10, adding 1 to x\n",
            "x==3\n",
            "x is currently:  3\n",
            " x is still less than 10, adding 1 to x\n",
            "continuing...\n",
            "x is currently:  4\n",
            " x is still less than 10, adding 1 to x\n",
            "continuing...\n",
            "x is currently:  5\n",
            " x is still less than 10, adding 1 to x\n",
            "continuing...\n",
            "x is currently:  6\n",
            " x is still less than 10, adding 1 to x\n",
            "continuing...\n",
            "x is currently:  7\n",
            " x is still less than 10, adding 1 to x\n",
            "continuing...\n",
            "x is currently:  8\n",
            " x is still less than 10, adding 1 to x\n",
            "continuing...\n",
            "x is currently:  9\n",
            " x is still less than 10, adding 1 to x\n",
            "continuing...\n"
          ]
        }
      ]
    },
    {
      "cell_type": "code",
      "source": [
        "x = 0\n",
        "\n",
        "while x < 10:\n",
        "    print('x is currently: ',x)\n",
        "    print(' x is still less than 10, adding 1 to x')\n",
        "    x+=1\n",
        "    if x==3:\n",
        "        print('Breaking because x==3')\n",
        "        break\n",
        "    else:\n",
        "        print('continuing...')\n",
        "        continue"
      ],
      "metadata": {
        "colab": {
          "base_uri": "https://localhost:8080/"
        },
        "id": "HYUFo9MKVSxh",
        "outputId": "536bfa62-55dc-4759-ad88-04c30742f155"
      },
      "execution_count": null,
      "outputs": [
        {
          "output_type": "stream",
          "name": "stdout",
          "text": [
            "x is currently:  0\n",
            " x is still less than 10, adding 1 to x\n",
            "continuing...\n",
            "x is currently:  1\n",
            " x is still less than 10, adding 1 to x\n",
            "continuing...\n",
            "x is currently:  2\n",
            " x is still less than 10, adding 1 to x\n",
            "Breaking because x==3\n"
          ]
        }
      ]
    },
    {
      "cell_type": "code",
      "source": [
        "#A word of caution however! It is possible to create an infinitely running loop with while statements. For example:\n",
        "# DO NOT RUN THIS CODE!!!! \n",
        "while True:\n",
        "    print(\"I'm stuck in an infinite loop!\")"
      ],
      "metadata": {
        "id": "bFLHCgj2VS0n"
      },
      "execution_count": null,
      "outputs": []
    },
    {
      "cell_type": "markdown",
      "source": [
        "#Excercises"
      ],
      "metadata": {
        "id": "IxtCjdcYionn"
      }
    },
    {
      "cell_type": "markdown",
      "source": [
        "##1.Use for, .split(), and if to create a Statement that will print out words that start with 's':"
      ],
      "metadata": {
        "id": "cNz0iMYdi4a5"
      }
    },
    {
      "cell_type": "code",
      "source": [
        "st = 'Print only the words that start with s in this sentence'"
      ],
      "metadata": {
        "id": "YTKClBO-VgHP"
      },
      "execution_count": null,
      "outputs": []
    },
    {
      "cell_type": "code",
      "source": [],
      "metadata": {
        "colab": {
          "base_uri": "https://localhost:8080/"
        },
        "id": "631k9tT5kMvH",
        "outputId": "673d2947-eb8a-4571-da08-ded2df883ff3"
      },
      "execution_count": null,
      "outputs": [
        {
          "output_type": "stream",
          "name": "stdout",
          "text": [
            "start\n",
            "s\n",
            "sentence\n"
          ]
        }
      ]
    },
    {
      "cell_type": "code",
      "source": [
        "#Code here\n",
        "\n",
        "\n"
      ],
      "metadata": {
        "id": "5arIeDf1VgKi"
      },
      "execution_count": null,
      "outputs": []
    },
    {
      "cell_type": "markdown",
      "source": [
        "##2.Use range() to print all the even numbers from 0 to 10."
      ],
      "metadata": {
        "id": "9_h9H8DNjWTk"
      }
    },
    {
      "cell_type": "code",
      "source": [
        "list(range(0,11,2))"
      ],
      "metadata": {
        "colab": {
          "base_uri": "https://localhost:8080/"
        },
        "id": "5S71ose7keCh",
        "outputId": "b6cf03f7-537c-49dd-91f9-464a5f548b03"
      },
      "execution_count": null,
      "outputs": [
        {
          "output_type": "execute_result",
          "data": {
            "text/plain": [
              "[0, 2, 4, 6, 8, 10]"
            ]
          },
          "metadata": {},
          "execution_count": 48
        }
      ]
    },
    {
      "cell_type": "code",
      "source": [
        "# Code here\n",
        "\n",
        "\n"
      ],
      "metadata": {
        "id": "dVCH85InVgNm"
      },
      "execution_count": null,
      "outputs": []
    },
    {
      "cell_type": "markdown",
      "source": [
        "##3.Go through the string below and if the length of a word is even print \"even!\""
      ],
      "metadata": {
        "id": "udFXt6BKjjAZ"
      }
    },
    {
      "cell_type": "code",
      "source": [
        "st = 'Print every word in this sentence that has an even number of letters'"
      ],
      "metadata": {
        "id": "xE1TjRScVgQV"
      },
      "execution_count": null,
      "outputs": []
    },
    {
      "cell_type": "code",
      "source": [],
      "metadata": {
        "colab": {
          "base_uri": "https://localhost:8080/"
        },
        "id": "DS1zdnw-klTf",
        "outputId": "00369a92-d6e4-4c4c-c7be-c284c482385c"
      },
      "execution_count": null,
      "outputs": [
        {
          "output_type": "stream",
          "name": "stdout",
          "text": [
            "word <-- has an even length!\n",
            "in <-- has an even length!\n",
            "this <-- has an even length!\n",
            "sentence <-- has an even length!\n",
            "that <-- has an even length!\n",
            "an <-- has an even length!\n",
            "even <-- has an even length!\n",
            "number <-- has an even length!\n",
            "of <-- has an even length!\n"
          ]
        }
      ]
    },
    {
      "cell_type": "code",
      "source": [
        "#Code here\n",
        "\n",
        "\n"
      ],
      "metadata": {
        "id": "Fjiew5qIVpLl"
      },
      "execution_count": null,
      "outputs": []
    }
  ]
}