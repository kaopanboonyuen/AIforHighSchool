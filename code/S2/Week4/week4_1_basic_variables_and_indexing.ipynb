{
  "nbformat": 4,
  "nbformat_minor": 0,
  "metadata": {
    "colab": {
      "name": "week4_1_basic_variables_and_indexing.ipynb",
      "provenance": [],
      "toc_visible": true
    },
    "kernelspec": {
      "name": "python3",
      "display_name": "Python 3"
    },
    "language_info": {
      "name": "python"
    }
  },
  "cells": [
    {
      "cell_type": "markdown",
      "source": [
        "#Variable Assignment\n",
        "###Rules for variable names \n",
        "* ห้ามขึ้นต้นด้วยตัวเลข\n",
        "* ห้ามมีช่องว่างระหว่างตัวแปร\n",
        "* ห้ามประกอบด้วยสัญลักษณ์ต่อไปนี้ :'\",<>/?|\\!@#%^&*~-+ \n",
        "* การใช้ตัวใหญ่ ตัวเล็ก ลองศึกษาจากมาตรฐาน PEP8 (ref: https://peps.python.org/pep-0008/)\n",
        "* หลีกเลี่ยง Python built-in keywords เช่น list และ str\n",
        "\n",
        "ref : https://github.com/Pierian-Data/Complete-Python-3-Bootcamp/blob/master/00-Python%20Object%20and%20Data%20Structure%20Basics/01-Variable%20Assignment.ipynb\n",
        "\n",
        "###Dynamic Typing\n",
        "Python สามารถเปลี่ยนค่าตัวแปรได้โดยไม่ต้องคำนึงถึง data type ก่อนหน้าซึ่งเป็นข้อที่แตกต่างกับภาษาโปรแกรมอิ่นหลายภาษา"
      ],
      "metadata": {
        "id": "0T4cr01-Ddom"
      }
    },
    {
      "cell_type": "code",
      "source": [
        "my_dogs = 1"
      ],
      "metadata": {
        "id": "p3Y2sPFUFilo"
      },
      "execution_count": null,
      "outputs": []
    },
    {
      "cell_type": "code",
      "source": [
        "my_dogs"
      ],
      "metadata": {
        "colab": {
          "base_uri": "https://localhost:8080/"
        },
        "id": "EO-SYtgQFj5n",
        "outputId": "9421d9d3-ac79-4f4f-f5cf-e41d07c92e61"
      },
      "execution_count": null,
      "outputs": [
        {
          "output_type": "execute_result",
          "data": {
            "text/plain": [
              "1"
            ]
          },
          "metadata": {},
          "execution_count": 6
        }
      ]
    },
    {
      "cell_type": "code",
      "source": [
        "my_dogs = 'Sammy'"
      ],
      "metadata": {
        "id": "HWrLIdUFFkAl"
      },
      "execution_count": null,
      "outputs": []
    },
    {
      "cell_type": "code",
      "source": [
        "my_dogs "
      ],
      "metadata": {
        "colab": {
          "base_uri": "https://localhost:8080/",
          "height": 35
        },
        "id": "ScTdeImeFkGf",
        "outputId": "9b21c2c9-a919-4a4c-e383-bc3c41b582cf"
      },
      "execution_count": null,
      "outputs": [
        {
          "output_type": "execute_result",
          "data": {
            "text/plain": [
              "'Sammy'"
            ],
            "application/vnd.google.colaboratory.intrinsic+json": {
              "type": "string"
            }
          },
          "metadata": {},
          "execution_count": 4
        }
      ]
    },
    {
      "cell_type": "markdown",
      "source": [
        "##Reassigning Variables"
      ],
      "metadata": {
        "id": "MVGYFZw-IzQG"
      }
    },
    {
      "cell_type": "code",
      "source": [
        "a = 10"
      ],
      "metadata": {
        "id": "hvnAArVZJAWq"
      },
      "execution_count": null,
      "outputs": []
    },
    {
      "cell_type": "code",
      "source": [
        "a = a+10"
      ],
      "metadata": {
        "id": "G3h397YiJAZ6"
      },
      "execution_count": null,
      "outputs": []
    },
    {
      "cell_type": "code",
      "source": [
        "a"
      ],
      "metadata": {
        "colab": {
          "base_uri": "https://localhost:8080/"
        },
        "id": "jlcBKycwJAdR",
        "outputId": "ba1153da-8b4e-4f4d-b87b-19d8ced08e0f"
      },
      "execution_count": null,
      "outputs": [
        {
          "output_type": "execute_result",
          "data": {
            "text/plain": [
              "20"
            ]
          },
          "metadata": {},
          "execution_count": 9
        }
      ]
    },
    {
      "cell_type": "markdown",
      "source": [
        "ถ้าเป็น บวก, ลบ, คูณ และ หารเพื่อเปลี่ยนค่าในตัวแปรเดิมให้ใช้ +=, -=, *=, and /= ได้เลย "
      ],
      "metadata": {
        "id": "79Gyg97hJMan"
      }
    },
    {
      "cell_type": "code",
      "source": [
        "a += 10"
      ],
      "metadata": {
        "id": "NZ2D4-yzJAgN"
      },
      "execution_count": null,
      "outputs": []
    },
    {
      "cell_type": "code",
      "source": [
        "a"
      ],
      "metadata": {
        "colab": {
          "base_uri": "https://localhost:8080/"
        },
        "id": "swl5nOm5JAi5",
        "outputId": "21bc1abd-01c4-4345-cd5a-0c31bb6dbd48"
      },
      "execution_count": null,
      "outputs": [
        {
          "output_type": "execute_result",
          "data": {
            "text/plain": [
              "30"
            ]
          },
          "metadata": {},
          "execution_count": 11
        }
      ]
    },
    {
      "cell_type": "code",
      "source": [
        "a *= 2"
      ],
      "metadata": {
        "id": "kPJnYZQCJzDl"
      },
      "execution_count": null,
      "outputs": []
    },
    {
      "cell_type": "code",
      "source": [
        "a"
      ],
      "metadata": {
        "colab": {
          "base_uri": "https://localhost:8080/"
        },
        "id": "HpRaHQEpJzJV",
        "outputId": "bf4ac220-4635-486b-e118-afc7bca7f145"
      },
      "execution_count": null,
      "outputs": [
        {
          "output_type": "execute_result",
          "data": {
            "text/plain": [
              "60"
            ]
          },
          "metadata": {},
          "execution_count": 13
        }
      ]
    },
    {
      "cell_type": "markdown",
      "source": [
        "##Determining variable type with type()\n",
        "ตรวจสอบชนิดของตัวแปรได้โดยฟังก์ชัน type() \n",
        "โดย data types ทั่วไปประกอบไปด้วย :\n",
        "\n",
        "* int (for integer)\n",
        "* float\n",
        "* str (for string)\n",
        "* list\n",
        "* tuple\n",
        "* dict (for dictionary)\n",
        "* set\n",
        "* bool (for Boolean True/False)"
      ],
      "metadata": {
        "id": "0ijPQhKaJ9yU"
      }
    },
    {
      "cell_type": "code",
      "source": [
        "type(a)"
      ],
      "metadata": {
        "colab": {
          "base_uri": "https://localhost:8080/"
        },
        "id": "CIz2vouuKn2K",
        "outputId": "c732f3fd-3bcd-4e45-8b9d-8f072465a78e"
      },
      "execution_count": null,
      "outputs": [
        {
          "output_type": "execute_result",
          "data": {
            "text/plain": [
              "int"
            ]
          },
          "metadata": {},
          "execution_count": 14
        }
      ]
    },
    {
      "cell_type": "code",
      "source": [
        "a = False"
      ],
      "metadata": {
        "id": "W6XtP8bOKn5w"
      },
      "execution_count": null,
      "outputs": []
    },
    {
      "cell_type": "code",
      "source": [
        "type(a)"
      ],
      "metadata": {
        "colab": {
          "base_uri": "https://localhost:8080/"
        },
        "id": "895K7hZjKn9a",
        "outputId": "e1c9127b-4455-444d-fe9e-cd685fc87245"
      },
      "execution_count": null,
      "outputs": [
        {
          "output_type": "execute_result",
          "data": {
            "text/plain": [
              "bool"
            ]
          },
          "metadata": {},
          "execution_count": 17
        }
      ]
    },
    {
      "cell_type": "code",
      "source": [],
      "metadata": {
        "id": "HyAx2gQeKoF6"
      },
      "execution_count": null,
      "outputs": []
    },
    {
      "cell_type": "markdown",
      "source": [
        "##Simple Exercise\n",
        "เปลี่ยนอุณหภูมิ จาก องศาเซลเซียส เป็น ฟาเรนไฮต์ และ เคลวิน ตามสมการ <br> \n",
        "$F= \\frac{9}{5}C$ + 32 \n",
        "\n",
        "$K = C + 273.15$"
      ],
      "metadata": {
        "id": "llVzCKCNK8Je"
      }
    },
    {
      "cell_type": "code",
      "source": [
        "c = 39.85\n"
      ],
      "metadata": {
        "colab": {
          "base_uri": "https://localhost:8080/"
        },
        "id": "0LbAgYg4OdUc",
        "outputId": "d9fb35e2-7be9-4097-ee2a-455d56a48ee9"
      },
      "execution_count": null,
      "outputs": [
        {
          "output_type": "stream",
          "name": "stdout",
          "text": [
            "F =  103.73\n",
            "K =  313.0\n"
          ]
        }
      ]
    },
    {
      "cell_type": "code",
      "source": [],
      "metadata": {
        "id": "HXBomM5YO07j"
      },
      "execution_count": null,
      "outputs": []
    },
    {
      "cell_type": "markdown",
      "source": [
        "#Lists\n",
        "Earlier when discussing strings we introduced the concept of a sequence in Python. Lists can be thought of the most general version of a sequence in Python. Unlike strings, they are mutable, meaning the elements inside a list can be changed!\n",
        "\n",
        "In this section we will learn about:\n",
        "\n",
        "1. Creating lists\n",
        "2. Indexing and Slicing Lists\n",
        "3. Basic List Methods\n",
        "4. Nesting Lists\n",
        "\n",
        "Lists are constructed with brackets [ ] and commas separating every element in the list.\n",
        "\n",
        "refs : https://github.com/Pierian-Data/Complete-Python-3-Bootcamp/blob/master/00-Python%20Object%20and%20Data%20Structure%20Basics/04-Lists.ipynb"
      ],
      "metadata": {
        "id": "jFlwetyrSylU"
      }
    },
    {
      "cell_type": "code",
      "source": [
        "# Assign a list to an variable named my_list\n",
        "my_list = [1,2,3]"
      ],
      "metadata": {
        "id": "1r1HUa9CR8GQ"
      },
      "execution_count": null,
      "outputs": []
    },
    {
      "cell_type": "code",
      "source": [
        "my_list = ['A string',23,100.232,'o']"
      ],
      "metadata": {
        "id": "Wsmhp20IR8Zf"
      },
      "execution_count": null,
      "outputs": []
    },
    {
      "cell_type": "code",
      "source": [
        "len(my_list)"
      ],
      "metadata": {
        "colab": {
          "base_uri": "https://localhost:8080/"
        },
        "id": "avAzx2IHR8dE",
        "outputId": "1060f580-50b0-419c-865b-f4442905f44d"
      },
      "execution_count": null,
      "outputs": [
        {
          "output_type": "execute_result",
          "data": {
            "text/plain": [
              "4"
            ]
          },
          "metadata": {},
          "execution_count": 21
        }
      ]
    },
    {
      "cell_type": "markdown",
      "source": [
        "##Indexing and Slicing\n",
        "\n",
        "Indexing and slicing work just like in strings. Let's make a new list to remind ourselves of how this works:"
      ],
      "metadata": {
        "id": "hg-Y-Uh0T51a"
      }
    },
    {
      "cell_type": "code",
      "source": [
        "my_list = ['one','two','three',4,5]"
      ],
      "metadata": {
        "id": "LFx_Ap2BR8gD"
      },
      "execution_count": null,
      "outputs": []
    },
    {
      "cell_type": "code",
      "source": [
        "# Grab element at index 0\n",
        "my_list[0]"
      ],
      "metadata": {
        "colab": {
          "base_uri": "https://localhost:8080/",
          "height": 35
        },
        "id": "5p0v0bS9R8jK",
        "outputId": "046f1ae9-b726-43e3-ee2e-10a09876d160"
      },
      "execution_count": null,
      "outputs": [
        {
          "output_type": "execute_result",
          "data": {
            "text/plain": [
              "'one'"
            ],
            "application/vnd.google.colaboratory.intrinsic+json": {
              "type": "string"
            }
          },
          "metadata": {},
          "execution_count": 23
        }
      ]
    },
    {
      "cell_type": "code",
      "source": [
        "# Grab index 1 and everything past it\n",
        "my_list[1:]"
      ],
      "metadata": {
        "colab": {
          "base_uri": "https://localhost:8080/"
        },
        "id": "u3J2oaxwR8lt",
        "outputId": "4aae9023-4e36-47e5-cda6-8b22d8b2a156"
      },
      "execution_count": null,
      "outputs": [
        {
          "output_type": "execute_result",
          "data": {
            "text/plain": [
              "['two', 'three', 4, 5]"
            ]
          },
          "metadata": {},
          "execution_count": 24
        }
      ]
    },
    {
      "cell_type": "code",
      "source": [
        "# Grab everything UP TO index 3\n",
        "my_list[:3]"
      ],
      "metadata": {
        "colab": {
          "base_uri": "https://localhost:8080/"
        },
        "id": "rfzyUh6PUT_k",
        "outputId": "16531f20-aa1b-4615-eb2c-9d3b3fe55ea3"
      },
      "execution_count": null,
      "outputs": [
        {
          "output_type": "execute_result",
          "data": {
            "text/plain": [
              "['one', 'two', 'three']"
            ]
          },
          "metadata": {},
          "execution_count": 25
        }
      ]
    },
    {
      "cell_type": "code",
      "source": [
        "my_list + ['new item']"
      ],
      "metadata": {
        "colab": {
          "base_uri": "https://localhost:8080/"
        },
        "id": "EfOYS2x6UUC9",
        "outputId": "ce541e89-d08e-45e4-9102-4ac927bb6cb1"
      },
      "execution_count": null,
      "outputs": [
        {
          "output_type": "execute_result",
          "data": {
            "text/plain": [
              "['one', 'two', 'three', 4, 5, 'new item']"
            ]
          },
          "metadata": {},
          "execution_count": 26
        }
      ]
    },
    {
      "cell_type": "code",
      "source": [
        "my_list"
      ],
      "metadata": {
        "colab": {
          "base_uri": "https://localhost:8080/"
        },
        "id": "epfWCO5qUUH7",
        "outputId": "5acdba2f-ca73-48d0-aa73-5b401bcff6d7"
      },
      "execution_count": null,
      "outputs": [
        {
          "output_type": "execute_result",
          "data": {
            "text/plain": [
              "['one', 'two', 'three', 4, 5]"
            ]
          },
          "metadata": {},
          "execution_count": 27
        }
      ]
    },
    {
      "cell_type": "code",
      "source": [
        "# Reassign\n",
        "my_list = my_list + ['add new item permanently']"
      ],
      "metadata": {
        "id": "vASglySMUULB"
      },
      "execution_count": null,
      "outputs": []
    },
    {
      "cell_type": "code",
      "source": [
        "my_list"
      ],
      "metadata": {
        "colab": {
          "base_uri": "https://localhost:8080/"
        },
        "id": "nHQBHWteUUN0",
        "outputId": "a5887b24-a625-4017-aeb6-2834465b4402"
      },
      "execution_count": null,
      "outputs": [
        {
          "output_type": "execute_result",
          "data": {
            "text/plain": [
              "['one', 'two', 'three', 4, 5, 'add new item permanently']"
            ]
          },
          "metadata": {},
          "execution_count": 29
        }
      ]
    },
    {
      "cell_type": "markdown",
      "source": [
        "##Basic List Methods\n",
        "\n",
        "If you are familiar with another programming language, you might start to draw parallels between arrays in another language and lists in Python. Lists in Python however, tend to be more flexible than arrays in other languages for a two good reasons: they have no fixed size (meaning we don't have to specify how big a list will be), and they have no fixed type constraint (like we've seen above).\n",
        "\n",
        "ref : https://github.com/Pierian-Data/Complete-Python-3-Bootcamp/blob/master/00-Python%20Object%20and%20Data%20Structure%20Basics/04-Lists.ipynb"
      ],
      "metadata": {
        "id": "CNNDUcFiUqeo"
      }
    },
    {
      "cell_type": "code",
      "source": [
        "# Create a new list\n",
        "list1 = [1,2,3]"
      ],
      "metadata": {
        "id": "qg4OcxYrVShg"
      },
      "execution_count": null,
      "outputs": []
    },
    {
      "cell_type": "code",
      "source": [
        "# Append\n",
        "list1.append('append me!')"
      ],
      "metadata": {
        "id": "NlnYJzvXVSrY"
      },
      "execution_count": null,
      "outputs": []
    },
    {
      "cell_type": "code",
      "source": [
        "# Show\n",
        "list1"
      ],
      "metadata": {
        "colab": {
          "base_uri": "https://localhost:8080/"
        },
        "id": "4NZSwfckVSuY",
        "outputId": "bb0c7f93-18fc-446d-b508-2f3e0f87f3e1"
      },
      "execution_count": null,
      "outputs": [
        {
          "output_type": "execute_result",
          "data": {
            "text/plain": [
              "[1, 2, 3, 'append me!']"
            ]
          },
          "metadata": {},
          "execution_count": 32
        }
      ]
    },
    {
      "cell_type": "code",
      "source": [
        "# Pop off the 0 indexed item\n",
        "list1.pop(0)"
      ],
      "metadata": {
        "colab": {
          "base_uri": "https://localhost:8080/"
        },
        "id": "HYUFo9MKVSxh",
        "outputId": "698f85dc-59b4-4a8b-b598-1c938e695c7c"
      },
      "execution_count": null,
      "outputs": [
        {
          "output_type": "execute_result",
          "data": {
            "text/plain": [
              "1"
            ]
          },
          "metadata": {},
          "execution_count": 33
        }
      ]
    },
    {
      "cell_type": "code",
      "source": [
        "# Show\n",
        "list1"
      ],
      "metadata": {
        "colab": {
          "base_uri": "https://localhost:8080/"
        },
        "id": "bFLHCgj2VS0n",
        "outputId": "ed3dfe54-def7-48aa-ad8d-c52ef4f594ea"
      },
      "execution_count": null,
      "outputs": [
        {
          "output_type": "execute_result",
          "data": {
            "text/plain": [
              "[2, 3, 'append me!']"
            ]
          },
          "metadata": {},
          "execution_count": 34
        }
      ]
    },
    {
      "cell_type": "code",
      "source": [
        "# Assign the popped element, remember default popped index is -1\n",
        "popped_item = list1.pop()"
      ],
      "metadata": {
        "id": "YTKClBO-VgHP"
      },
      "execution_count": null,
      "outputs": []
    },
    {
      "cell_type": "code",
      "source": [
        "popped_item"
      ],
      "metadata": {
        "colab": {
          "base_uri": "https://localhost:8080/",
          "height": 35
        },
        "id": "5arIeDf1VgKi",
        "outputId": "da63a1b4-2eb4-469a-f690-7b9fda3fbd82"
      },
      "execution_count": null,
      "outputs": [
        {
          "output_type": "execute_result",
          "data": {
            "text/plain": [
              "'append me!'"
            ],
            "application/vnd.google.colaboratory.intrinsic+json": {
              "type": "string"
            }
          },
          "metadata": {},
          "execution_count": 36
        }
      ]
    },
    {
      "cell_type": "code",
      "source": [
        "# Show remaining list\n",
        "list1"
      ],
      "metadata": {
        "colab": {
          "base_uri": "https://localhost:8080/"
        },
        "id": "dVCH85InVgNm",
        "outputId": "ee8c2f55-d4b5-42c3-c09a-b47666731678"
      },
      "execution_count": null,
      "outputs": [
        {
          "output_type": "execute_result",
          "data": {
            "text/plain": [
              "[2, 3]"
            ]
          },
          "metadata": {},
          "execution_count": 37
        }
      ]
    },
    {
      "cell_type": "code",
      "source": [
        "list1[100]"
      ],
      "metadata": {
        "colab": {
          "base_uri": "https://localhost:8080/",
          "height": 165
        },
        "id": "xE1TjRScVgQV",
        "outputId": "f1f48c07-7fa2-4feb-aba3-d62f1803560a"
      },
      "execution_count": null,
      "outputs": [
        {
          "output_type": "error",
          "ename": "IndexError",
          "evalue": "ignored",
          "traceback": [
            "\u001b[0;31m---------------------------------------------------------------------------\u001b[0m",
            "\u001b[0;31mIndexError\u001b[0m                                Traceback (most recent call last)",
            "\u001b[0;32m<ipython-input-38-af6d2015fa1f>\u001b[0m in \u001b[0;36m<module>\u001b[0;34m\u001b[0m\n\u001b[0;32m----> 1\u001b[0;31m \u001b[0mlist1\u001b[0m\u001b[0;34m[\u001b[0m\u001b[0;36m100\u001b[0m\u001b[0;34m]\u001b[0m\u001b[0;34m\u001b[0m\u001b[0;34m\u001b[0m\u001b[0m\n\u001b[0m",
            "\u001b[0;31mIndexError\u001b[0m: list index out of range"
          ]
        }
      ]
    },
    {
      "cell_type": "code",
      "source": [
        "new_list = ['a','e','x','b','c']"
      ],
      "metadata": {
        "id": "Fjiew5qIVpLl"
      },
      "execution_count": null,
      "outputs": []
    },
    {
      "cell_type": "code",
      "source": [
        "#Show\n",
        "new_list"
      ],
      "metadata": {
        "colab": {
          "base_uri": "https://localhost:8080/"
        },
        "id": "p6ToLTaDVpPL",
        "outputId": "d3cbf3b7-0ad7-4bad-ea29-d6e875543601"
      },
      "execution_count": null,
      "outputs": [
        {
          "output_type": "execute_result",
          "data": {
            "text/plain": [
              "['a', 'e', 'x', 'b', 'c']"
            ]
          },
          "metadata": {},
          "execution_count": 40
        }
      ]
    },
    {
      "cell_type": "code",
      "source": [
        "# Use reverse to reverse order (this is permanent!)\n",
        "new_list.reverse()"
      ],
      "metadata": {
        "id": "T_s7AFg4VpSn"
      },
      "execution_count": null,
      "outputs": []
    },
    {
      "cell_type": "code",
      "source": [
        "new_list"
      ],
      "metadata": {
        "colab": {
          "base_uri": "https://localhost:8080/"
        },
        "id": "GU4jx-hiVvSY",
        "outputId": "0b088153-a4ef-488a-cd3d-33461e5486a9"
      },
      "execution_count": null,
      "outputs": [
        {
          "output_type": "execute_result",
          "data": {
            "text/plain": [
              "['c', 'b', 'x', 'e', 'a']"
            ]
          },
          "metadata": {},
          "execution_count": 42
        }
      ]
    },
    {
      "cell_type": "code",
      "source": [
        "# Use sort to sort the list (in this case alphabetical order, but for numbers it will go ascending)\n",
        "new_list.sort()"
      ],
      "metadata": {
        "id": "gP-rKONbVvWD"
      },
      "execution_count": null,
      "outputs": []
    },
    {
      "cell_type": "code",
      "source": [
        "new_list"
      ],
      "metadata": {
        "colab": {
          "base_uri": "https://localhost:8080/"
        },
        "id": "7YaLpb4VVva7",
        "outputId": "9992afa8-aedd-48ab-82dd-caa803aa08ed"
      },
      "execution_count": null,
      "outputs": [
        {
          "output_type": "execute_result",
          "data": {
            "text/plain": [
              "['a', 'b', 'c', 'e', 'x']"
            ]
          },
          "metadata": {},
          "execution_count": 44
        }
      ]
    },
    {
      "cell_type": "markdown",
      "source": [
        "##Nesting Lists\n",
        "A great feature of of Python data structures is that they support nesting. This means we can have data structures within data structures. For example: A list inside a list.\n",
        "\n",
        "ref : https://github.com/Pierian-Data/Complete-Python-3-Bootcamp/blob/master/00-Python%20Object%20and%20Data%20Structure%20Basics/04-Lists.ipynb"
      ],
      "metadata": {
        "id": "6lTMTlh8WHiM"
      }
    },
    {
      "cell_type": "code",
      "source": [
        "# Let's make three lists\n",
        "lst_1=[1,2,3]\n",
        "lst_2=[4,5,6]\n",
        "lst_3=[7,8,9]\n",
        "\n",
        "# Make a list of lists to form a matrix\n",
        "matrix = [lst_1,lst_2,lst_3]"
      ],
      "metadata": {
        "id": "Eg2Lq5uWWYLG"
      },
      "execution_count": null,
      "outputs": []
    },
    {
      "cell_type": "code",
      "source": [
        "# Show\n",
        "matrix"
      ],
      "metadata": {
        "colab": {
          "base_uri": "https://localhost:8080/"
        },
        "id": "Jwed9GZTWYON",
        "outputId": "8b7a717c-d89c-4535-d261-8b12bc34ceb8"
      },
      "execution_count": null,
      "outputs": [
        {
          "output_type": "execute_result",
          "data": {
            "text/plain": [
              "[[1, 2, 3], [4, 5, 6], [7, 8, 9]]"
            ]
          },
          "metadata": {},
          "execution_count": 46
        }
      ]
    },
    {
      "cell_type": "code",
      "source": [
        "# Grab first item in matrix object\n",
        "matrix[0]"
      ],
      "metadata": {
        "colab": {
          "base_uri": "https://localhost:8080/"
        },
        "id": "FNrh5PiwWYRv",
        "outputId": "25caf483-8336-494f-c2dc-a82fb84083b9"
      },
      "execution_count": null,
      "outputs": [
        {
          "output_type": "execute_result",
          "data": {
            "text/plain": [
              "[1, 2, 3]"
            ]
          },
          "metadata": {},
          "execution_count": 47
        }
      ]
    },
    {
      "cell_type": "code",
      "source": [
        "# Grab first item of the first item in the matrix object\n",
        "matrix[0][0]"
      ],
      "metadata": {
        "colab": {
          "base_uri": "https://localhost:8080/"
        },
        "id": "CvIkuk9PWYVP",
        "outputId": "9f945c08-4245-4ddb-e05c-2520d75eb63c"
      },
      "execution_count": null,
      "outputs": [
        {
          "output_type": "execute_result",
          "data": {
            "text/plain": [
              "1"
            ]
          },
          "metadata": {},
          "execution_count": 48
        }
      ]
    },
    {
      "cell_type": "code",
      "source": [],
      "metadata": {
        "id": "nGcTyQGTWYew"
      },
      "execution_count": null,
      "outputs": []
    },
    {
      "cell_type": "markdown",
      "source": [
        "#Dictionaries\n",
        "We've been learning about sequences in Python but now we're going to switch gears and learn about mappings in Python. If you're familiar with other languages you can think of these Dictionaries as hash tables.\n",
        "\n",
        "This section will serve as a brief introduction to dictionaries and consist of:\n",
        "\n",
        "1. Constructing a Dictionary\n",
        "2. Accessing objects from a dictionary\n",
        "3. Nesting Dictionaries\n",
        "4. Basic Dictionary Methods\n",
        "\n",
        "So what are mappings? Mappings are a collection of objects that are stored by a key, unlike a sequence that stored objects by their relative position. This is an important distinction, since mappings won't retain order since they have objects defined by a key.\n",
        "\n",
        "A Python dictionary consists of a key and then an associated value. That value can be almost any Python object."
      ],
      "metadata": {
        "id": "_NTwbtZHXQeM"
      }
    },
    {
      "cell_type": "code",
      "source": [
        "# Make a dictionary with {} and : to signify a key and a value\n",
        "my_dict = {'key1':'value1','key2':'value2'}"
      ],
      "metadata": {
        "id": "AG-9UgGaXhc5"
      },
      "execution_count": null,
      "outputs": []
    },
    {
      "cell_type": "code",
      "source": [
        "# Call values by their key\n",
        "my_dict['key2']"
      ],
      "metadata": {
        "colab": {
          "base_uri": "https://localhost:8080/",
          "height": 35
        },
        "id": "pmtvVWk-Xhgq",
        "outputId": "9dd0acba-99d1-4730-df3e-bc3af9d31774"
      },
      "execution_count": null,
      "outputs": [
        {
          "output_type": "execute_result",
          "data": {
            "text/plain": [
              "'value2'"
            ],
            "application/vnd.google.colaboratory.intrinsic+json": {
              "type": "string"
            }
          },
          "metadata": {},
          "execution_count": 50
        }
      ]
    },
    {
      "cell_type": "code",
      "source": [
        "my_dict = {'key1':123,'key2':[12,23,33],'key3':['item0','item1','item2']}"
      ],
      "metadata": {
        "id": "D_ZoauChXhjl"
      },
      "execution_count": null,
      "outputs": []
    },
    {
      "cell_type": "code",
      "source": [
        "# Let's call items from the dictionary\n",
        "my_dict['key3']"
      ],
      "metadata": {
        "colab": {
          "base_uri": "https://localhost:8080/"
        },
        "id": "u5v8sGEyXhmY",
        "outputId": "69062da7-9a6c-4f37-992f-0f7d0d46a962"
      },
      "execution_count": null,
      "outputs": [
        {
          "output_type": "execute_result",
          "data": {
            "text/plain": [
              "['item0', 'item1', 'item2']"
            ]
          },
          "metadata": {},
          "execution_count": 52
        }
      ]
    },
    {
      "cell_type": "code",
      "source": [
        "# Can call an index on that value\n",
        "my_dict['key3'][0]"
      ],
      "metadata": {
        "colab": {
          "base_uri": "https://localhost:8080/",
          "height": 35
        },
        "id": "qtu5NkozXhr8",
        "outputId": "09964e03-358e-4086-a5e5-44db4e468089"
      },
      "execution_count": null,
      "outputs": [
        {
          "output_type": "execute_result",
          "data": {
            "text/plain": [
              "'item0'"
            ],
            "application/vnd.google.colaboratory.intrinsic+json": {
              "type": "string"
            }
          },
          "metadata": {},
          "execution_count": 53
        }
      ]
    },
    {
      "cell_type": "code",
      "source": [
        "# Can then even call methods on that value\n",
        "my_dict['key3'][0].upper()"
      ],
      "metadata": {
        "colab": {
          "base_uri": "https://localhost:8080/",
          "height": 35
        },
        "id": "3Z4YuCTTXhvA",
        "outputId": "00dad505-8950-4bd5-cea1-2b9aec8f634d"
      },
      "execution_count": null,
      "outputs": [
        {
          "output_type": "execute_result",
          "data": {
            "text/plain": [
              "'ITEM0'"
            ],
            "application/vnd.google.colaboratory.intrinsic+json": {
              "type": "string"
            }
          },
          "metadata": {},
          "execution_count": 54
        }
      ]
    },
    {
      "cell_type": "code",
      "source": [
        "my_dict['key1']"
      ],
      "metadata": {
        "colab": {
          "base_uri": "https://localhost:8080/"
        },
        "id": "BrNJG0r0XhyF",
        "outputId": "c230cefd-b7b5-4b5d-d038-d4067d960696"
      },
      "execution_count": null,
      "outputs": [
        {
          "output_type": "execute_result",
          "data": {
            "text/plain": [
              "123"
            ]
          },
          "metadata": {},
          "execution_count": 55
        }
      ]
    },
    {
      "cell_type": "code",
      "source": [
        "# Subtract 123 from the value\n",
        "my_dict['key1'] = my_dict['key1'] - 123"
      ],
      "metadata": {
        "id": "YN5UCp7mXyHx"
      },
      "execution_count": null,
      "outputs": []
    },
    {
      "cell_type": "code",
      "source": [
        "#Check\n",
        "my_dict['key1']"
      ],
      "metadata": {
        "colab": {
          "base_uri": "https://localhost:8080/"
        },
        "id": "VFrPWGwaXyLJ",
        "outputId": "600b0c0a-af1e-4551-bc6c-931a7760560e"
      },
      "execution_count": null,
      "outputs": [
        {
          "output_type": "execute_result",
          "data": {
            "text/plain": [
              "0"
            ]
          },
          "metadata": {},
          "execution_count": 57
        }
      ]
    },
    {
      "cell_type": "code",
      "source": [
        "# Set the object equal to itself minus 123 \n",
        "my_dict['key1'] -= 123\n",
        "my_dict['key1']"
      ],
      "metadata": {
        "colab": {
          "base_uri": "https://localhost:8080/"
        },
        "id": "UWWTDNbWXyO-",
        "outputId": "18b4a8d2-144e-47a4-aa02-4d46a4b930b0"
      },
      "execution_count": null,
      "outputs": [
        {
          "output_type": "execute_result",
          "data": {
            "text/plain": [
              "-123"
            ]
          },
          "metadata": {},
          "execution_count": 58
        }
      ]
    },
    {
      "cell_type": "code",
      "source": [
        "# Create a new dictionary\n",
        "d = {}"
      ],
      "metadata": {
        "id": "aVvtwe_aXySd"
      },
      "execution_count": null,
      "outputs": []
    },
    {
      "cell_type": "code",
      "source": [
        "# Create a new key through assignment\n",
        "d['animal'] = 'Dog'"
      ],
      "metadata": {
        "id": "2hJb-turXyVx"
      },
      "execution_count": null,
      "outputs": []
    },
    {
      "cell_type": "code",
      "source": [
        "# Can do this with any object\n",
        "d['answer'] = 42"
      ],
      "metadata": {
        "id": "SI5EMAUyXyY1"
      },
      "execution_count": null,
      "outputs": []
    },
    {
      "cell_type": "code",
      "source": [
        "#Show\n",
        "d"
      ],
      "metadata": {
        "colab": {
          "base_uri": "https://localhost:8080/"
        },
        "id": "vtIDia2KXybP",
        "outputId": "860a024a-fbfd-4837-ea60-d16a6631b9a3"
      },
      "execution_count": null,
      "outputs": [
        {
          "output_type": "execute_result",
          "data": {
            "text/plain": [
              "{'animal': 'Dog', 'answer': 42}"
            ]
          },
          "metadata": {},
          "execution_count": 62
        }
      ]
    },
    {
      "cell_type": "markdown",
      "source": [
        "##Nesting with Dictionaries\n",
        "Hopefully you're starting to see how powerful Python is with its flexibility of nesting objects and calling methods on them. Let's see a dictionary nested inside a dictionary:"
      ],
      "metadata": {
        "id": "Dxeu5SOLacCV"
      }
    },
    {
      "cell_type": "code",
      "source": [
        "# Dictionary nested inside a dictionary nested inside a dictionary\n",
        "d = {'key1':{'nestkey':{'subnestkey':'value'}}}"
      ],
      "metadata": {
        "id": "dPvBpK7BXyeC"
      },
      "execution_count": null,
      "outputs": []
    },
    {
      "cell_type": "code",
      "source": [
        "# Keep calling the keys\n",
        "d['key1']['nestkey']['subnestkey']"
      ],
      "metadata": {
        "colab": {
          "base_uri": "https://localhost:8080/",
          "height": 35
        },
        "id": "2vIH9aaoYWrK",
        "outputId": "66b9bdd8-c92f-457c-ba80-25988bfdb174"
      },
      "execution_count": null,
      "outputs": [
        {
          "output_type": "execute_result",
          "data": {
            "text/plain": [
              "'value'"
            ],
            "application/vnd.google.colaboratory.intrinsic+json": {
              "type": "string"
            }
          },
          "metadata": {},
          "execution_count": 71
        }
      ]
    },
    {
      "cell_type": "markdown",
      "source": [
        "##A few Dictionary Methods\n",
        "There are a few methods we can call on a dictionary. Let's get a quick introduction to a few of them:"
      ],
      "metadata": {
        "id": "HBf5cO3fYhrS"
      }
    },
    {
      "cell_type": "code",
      "source": [
        "# Create a typical dictionary\n",
        "d = {'key1':1,'key2':2,'key3':3}"
      ],
      "metadata": {
        "id": "oB-9Q_f1YnrP"
      },
      "execution_count": null,
      "outputs": []
    },
    {
      "cell_type": "code",
      "source": [
        "# Method to return a list of all keys \n",
        "d.keys()"
      ],
      "metadata": {
        "colab": {
          "base_uri": "https://localhost:8080/"
        },
        "id": "y3ceJa3yYnu8",
        "outputId": "f7b4d005-9714-4043-c103-f9676d325c78"
      },
      "execution_count": null,
      "outputs": [
        {
          "output_type": "execute_result",
          "data": {
            "text/plain": [
              "dict_keys(['key1', 'key2', 'key3'])"
            ]
          },
          "metadata": {},
          "execution_count": 67
        }
      ]
    },
    {
      "cell_type": "code",
      "source": [
        "# Method to grab all values\n",
        "d.values()"
      ],
      "metadata": {
        "colab": {
          "base_uri": "https://localhost:8080/"
        },
        "id": "aP7IGtDLYnyQ",
        "outputId": "66eac3d9-c657-4382-e9c4-d7d56b7b7b12"
      },
      "execution_count": null,
      "outputs": [
        {
          "output_type": "execute_result",
          "data": {
            "text/plain": [
              "dict_values([1, 2, 3])"
            ]
          },
          "metadata": {},
          "execution_count": 68
        }
      ]
    },
    {
      "cell_type": "code",
      "source": [
        "# Method to return tuples of all items  (we'll learn about tuples soon)\n",
        "d.items()"
      ],
      "metadata": {
        "colab": {
          "base_uri": "https://localhost:8080/"
        },
        "id": "sP6hscOPYn1y",
        "outputId": "7d2aaf87-15c6-4958-b045-aa63bf71b871"
      },
      "execution_count": null,
      "outputs": [
        {
          "output_type": "execute_result",
          "data": {
            "text/plain": [
              "dict_items([('key1', 1), ('key2', 2), ('key3', 3)])"
            ]
          },
          "metadata": {},
          "execution_count": 69
        }
      ]
    },
    {
      "cell_type": "markdown",
      "source": [
        "#Tuples\n",
        "In Python tuples are very similar to lists, however, unlike lists they are immutable meaning they can not be changed. You would use tuples to present things that shouldn't be changed, such as days of the week, or dates on a calendar.\n",
        "\n",
        "In this section, we will get a brief overview of the following:\n",
        "\n",
        "1. Constructing Tuples\n",
        "2. Basic Tuple Methods\n",
        "3. Immutability\n",
        "4. When to Use Tuples\n",
        "\n",
        "You'll have an intuition of how to use tuples based on what you've learned about lists. We can treat them very similarly with the major distinction being that tuples are immutable.\n",
        "\n",
        "ref : https://github.com/Pierian-Data/Complete-Python-3-Bootcamp/blob/master/00-Python%20Object%20and%20Data%20Structure%20Basics/06-Tuples.ipynb"
      ],
      "metadata": {
        "id": "Nc1v2qnfZy_P"
      }
    },
    {
      "cell_type": "code",
      "source": [
        "# Create a tuple\n",
        "t = (1,2,3)"
      ],
      "metadata": {
        "id": "su5aOl5ean8z"
      },
      "execution_count": null,
      "outputs": []
    },
    {
      "cell_type": "code",
      "source": [
        "# Check len just like a list\n",
        "len(t)"
      ],
      "metadata": {
        "colab": {
          "base_uri": "https://localhost:8080/"
        },
        "id": "y8-oZW9oaoA6",
        "outputId": "429df112-efdf-4717-9faf-63c79804394d"
      },
      "execution_count": null,
      "outputs": [
        {
          "output_type": "execute_result",
          "data": {
            "text/plain": [
              "3"
            ]
          },
          "metadata": {},
          "execution_count": 73
        }
      ]
    },
    {
      "cell_type": "code",
      "source": [
        "# Can also mix object types\n",
        "t = ('one',2)\n",
        "\n",
        "# Show\n",
        "t"
      ],
      "metadata": {
        "colab": {
          "base_uri": "https://localhost:8080/"
        },
        "id": "nbqd1RhxaoEm",
        "outputId": "ca0f5bc8-29a1-4e78-f58e-1614d532f448"
      },
      "execution_count": null,
      "outputs": [
        {
          "output_type": "execute_result",
          "data": {
            "text/plain": [
              "('one', 2)"
            ]
          },
          "metadata": {},
          "execution_count": 74
        }
      ]
    },
    {
      "cell_type": "code",
      "source": [
        "# Use indexing just like we did in lists\n",
        "t[0]"
      ],
      "metadata": {
        "colab": {
          "base_uri": "https://localhost:8080/",
          "height": 35
        },
        "id": "EwAtbumeaoHg",
        "outputId": "567e6f50-345e-43cf-a132-3f944f2d7ce8"
      },
      "execution_count": null,
      "outputs": [
        {
          "output_type": "execute_result",
          "data": {
            "text/plain": [
              "'one'"
            ],
            "application/vnd.google.colaboratory.intrinsic+json": {
              "type": "string"
            }
          },
          "metadata": {},
          "execution_count": 75
        }
      ]
    },
    {
      "cell_type": "code",
      "source": [
        "# Slicing just like a list\n",
        "t[-1]"
      ],
      "metadata": {
        "colab": {
          "base_uri": "https://localhost:8080/"
        },
        "id": "s3WO19_Raw_i",
        "outputId": "c23d9be2-d6fa-45ad-aae2-6ced4589eed6"
      },
      "execution_count": null,
      "outputs": [
        {
          "output_type": "execute_result",
          "data": {
            "text/plain": [
              "2"
            ]
          },
          "metadata": {},
          "execution_count": 76
        }
      ]
    },
    {
      "cell_type": "markdown",
      "source": [
        "##Basic Tuple Methods\n",
        "Tuples have built-in methods, but not as many as lists do. Let's look at two of them:"
      ],
      "metadata": {
        "id": "FDA0MWVJa4pv"
      }
    },
    {
      "cell_type": "code",
      "source": [
        "# Use .index to enter a value and return the index\n",
        "t.index('one')"
      ],
      "metadata": {
        "colab": {
          "base_uri": "https://localhost:8080/"
        },
        "id": "KsLZhNOza-kA",
        "outputId": "49ba5586-837f-4664-cd13-129d7508274d"
      },
      "execution_count": null,
      "outputs": [
        {
          "output_type": "execute_result",
          "data": {
            "text/plain": [
              "0"
            ]
          },
          "metadata": {},
          "execution_count": 77
        }
      ]
    },
    {
      "cell_type": "code",
      "source": [
        "# Use .count to count the number of times a value appears\n",
        "t.count('one')"
      ],
      "metadata": {
        "colab": {
          "base_uri": "https://localhost:8080/"
        },
        "id": "gjXM_3H2a-qW",
        "outputId": "8ee312a5-f372-40a6-b4a8-ad1433047f03"
      },
      "execution_count": null,
      "outputs": [
        {
          "output_type": "execute_result",
          "data": {
            "text/plain": [
              "1"
            ]
          },
          "metadata": {},
          "execution_count": 78
        }
      ]
    },
    {
      "cell_type": "markdown",
      "source": [
        "##Immutability\n",
        "It can't be stressed enough that tuples are immutable. To drive that point home:"
      ],
      "metadata": {
        "id": "NOT8vuRxbP9Y"
      }
    },
    {
      "cell_type": "code",
      "source": [
        "t[0]= 'change'"
      ],
      "metadata": {
        "colab": {
          "base_uri": "https://localhost:8080/",
          "height": 165
        },
        "id": "GduTJhWVa-uX",
        "outputId": "07f8ea28-2e57-4a74-c771-7650594bb29c"
      },
      "execution_count": null,
      "outputs": [
        {
          "output_type": "error",
          "ename": "TypeError",
          "evalue": "ignored",
          "traceback": [
            "\u001b[0;31m---------------------------------------------------------------------------\u001b[0m",
            "\u001b[0;31mTypeError\u001b[0m                                 Traceback (most recent call last)",
            "\u001b[0;32m<ipython-input-79-1257c0aa9edd>\u001b[0m in \u001b[0;36m<module>\u001b[0;34m\u001b[0m\n\u001b[0;32m----> 1\u001b[0;31m \u001b[0mt\u001b[0m\u001b[0;34m[\u001b[0m\u001b[0;36m0\u001b[0m\u001b[0;34m]\u001b[0m\u001b[0;34m=\u001b[0m \u001b[0;34m'change'\u001b[0m\u001b[0;34m\u001b[0m\u001b[0;34m\u001b[0m\u001b[0m\n\u001b[0m",
            "\u001b[0;31mTypeError\u001b[0m: 'tuple' object does not support item assignment"
          ]
        }
      ]
    },
    {
      "cell_type": "code",
      "source": [
        "t.append('nope')"
      ],
      "metadata": {
        "colab": {
          "base_uri": "https://localhost:8080/",
          "height": 165
        },
        "id": "k3bqRCPVba-9",
        "outputId": "6b705787-c0e8-4b95-ff95-4a8b451f421f"
      },
      "execution_count": null,
      "outputs": [
        {
          "output_type": "error",
          "ename": "AttributeError",
          "evalue": "ignored",
          "traceback": [
            "\u001b[0;31m---------------------------------------------------------------------------\u001b[0m",
            "\u001b[0;31mAttributeError\u001b[0m                            Traceback (most recent call last)",
            "\u001b[0;32m<ipython-input-80-b75f5b09ac19>\u001b[0m in \u001b[0;36m<module>\u001b[0;34m\u001b[0m\n\u001b[0;32m----> 1\u001b[0;31m \u001b[0mt\u001b[0m\u001b[0;34m.\u001b[0m\u001b[0mappend\u001b[0m\u001b[0;34m(\u001b[0m\u001b[0;34m'nope'\u001b[0m\u001b[0;34m)\u001b[0m\u001b[0;34m\u001b[0m\u001b[0;34m\u001b[0m\u001b[0m\n\u001b[0m",
            "\u001b[0;31mAttributeError\u001b[0m: 'tuple' object has no attribute 'append'"
          ]
        }
      ]
    },
    {
      "cell_type": "markdown",
      "source": [
        "##Set and Booleans\n",
        "There are two other object types in Python that we should quickly cover: Sets and Booleans.\n",
        "\n",
        "Sets\n",
        "Sets are an unordered collection of unique elements. We can construct them by using the set() function. Let's go ahead and make a set to see how it works"
      ],
      "metadata": {
        "id": "gAyFSUn-bqZu"
      }
    },
    {
      "cell_type": "markdown",
      "source": [
        "##Excercise"
      ],
      "metadata": {
        "id": "xlcuaHabPNQl"
      }
    },
    {
      "cell_type": "markdown",
      "source": [
        "###1.Convert numeric words to numbers"
      ],
      "metadata": {
        "id": "hLWBtLwTPoDx"
      }
    },
    {
      "cell_type": "code",
      "source": [
        "number_dict = {\n",
        "    'one': '1',\n",
        "    'two': '2',\n",
        "    'three': '3',\n",
        "    'four': '4',\n",
        "    'five': '5',\n",
        "    'six': '6',\n",
        "    'seven': '7',\n",
        "    'eight': '8',\n",
        "    'nine': '9',\n",
        "    'zero' : '0'\n",
        "}"
      ],
      "metadata": {
        "id": "7CwddBKhhVp7"
      },
      "execution_count": null,
      "outputs": []
    },
    {
      "cell_type": "code",
      "source": [],
      "metadata": {
        "colab": {
          "base_uri": "https://localhost:8080/"
        },
        "id": "ze0SYuxJPEAg",
        "outputId": "1e402359-ea20-4c19-8ada-8ebdad6a0bfa"
      },
      "execution_count": null,
      "outputs": [
        {
          "output_type": "stream",
          "name": "stdout",
          "text": [
            "{'one': '1', 'two': '2', 'three': '3', 'four': '4', 'five': '5', 'six': '6', 'seven': '7', 'eight': '8', 'nine': '9', 'zero': '0'}\n"
          ]
        }
      ]
    },
    {
      "cell_type": "code",
      "source": [
        "# initializing string\n",
        "test_str = \"nine one eight zero\""
      ],
      "metadata": {
        "id": "0PdR-GZfP-07"
      },
      "execution_count": null,
      "outputs": []
    },
    {
      "cell_type": "code",
      "source": [
        "for word in test_str.split():\n",
        "  print(word)"
      ],
      "metadata": {
        "colab": {
          "base_uri": "https://localhost:8080/"
        },
        "id": "kMTL-HYoUmJz",
        "outputId": "6fd47e38-142c-45b5-85d2-e4c462c8f742"
      },
      "execution_count": null,
      "outputs": [
        {
          "output_type": "stream",
          "name": "stdout",
          "text": [
            "nine\n",
            "one\n",
            "eight\n",
            "zero\n"
          ]
        }
      ]
    },
    {
      "cell_type": "code",
      "source": [
        "|#code\n",
        "num_str = ''\n",
        "for word in test_str.split():\n",
        "  n = number_dict[word]\n",
        "  num_str=num_str+n\n",
        "\n",
        "print(num_str)"
      ],
      "metadata": {
        "id": "nUTZm_L-P-55",
        "colab": {
          "base_uri": "https://localhost:8080/"
        },
        "outputId": "b72fa0d3-7824-446c-e02c-f311a05929d4"
      },
      "execution_count": null,
      "outputs": [
        {
          "output_type": "stream",
          "name": "stdout",
          "text": [
            "9180\n"
          ]
        }
      ]
    },
    {
      "cell_type": "code",
      "source": [],
      "metadata": {
        "id": "o75gkdBKP7F3"
      },
      "execution_count": null,
      "outputs": []
    },
    {
      "cell_type": "code",
      "source": [
        "#result\n",
        "0404"
      ],
      "metadata": {
        "id": "FwSC74PPP-81"
      },
      "execution_count": null,
      "outputs": []
    },
    {
      "cell_type": "markdown",
      "source": [
        "### 2.Create function to remove first n characters from a string"
      ],
      "metadata": {
        "id": "69nLmfr-UGa0"
      }
    },
    {
      "cell_type": "code",
      "source": [
        "#code\n",
        "def remove_chars(word, n):\n",
        "  print(word[n:])"
      ],
      "metadata": {
        "id": "uIhTaTRcP-_x"
      },
      "execution_count": null,
      "outputs": []
    },
    {
      "cell_type": "code",
      "source": [
        "#result \n",
        "remove_chars('ทนงทวยคงควรคอย', 3)"
      ],
      "metadata": {
        "colab": {
          "base_uri": "https://localhost:8080/"
        },
        "id": "5uOAYc0LP_Bz",
        "outputId": "080383b5-b21d-4f66-b56e-60755cb27f17"
      },
      "execution_count": null,
      "outputs": [
        {
          "output_type": "stream",
          "name": "stdout",
          "text": [
            "ทวยคงควรคอย\n"
          ]
        }
      ]
    },
    {
      "cell_type": "code",
      "source": [
        "word = 'ทนงทวยคงควรคอย'\n",
        "print(word[3:])"
      ],
      "metadata": {
        "colab": {
          "base_uri": "https://localhost:8080/"
        },
        "id": "c3_pIrz1YxER",
        "outputId": "b50e59d7-3c5b-4a36-af0e-150bc5820c7e"
      },
      "execution_count": null,
      "outputs": [
        {
          "output_type": "stream",
          "name": "stdout",
          "text": [
            "ทวยคงควรคอย\n"
          ]
        }
      ]
    },
    {
      "cell_type": "markdown",
      "source": [
        "###3.Return the count of a given substring from a string"
      ],
      "metadata": {
        "id": "Dzb1kUkqWzXn"
      }
    },
    {
      "cell_type": "code",
      "source": [
        "str_x = \"AYUTTHAYA: Vendors of roti sai mai have hailed Thai superstar Lisa \\\n",
        "        Lisa Manoban for posting a video that has created major buzz about their sweet snacks.\""
      ],
      "metadata": {
        "id": "P6teygIbVOkx"
      },
      "execution_count": null,
      "outputs": []
    },
    {
      "cell_type": "code",
      "source": [
        "#return count of Lisa\n",
        "#code\n",
        "count = str_x.count('Lisa')\n",
        "print(f\"\"\"Lisa appeared {count} times\"\"\")"
      ],
      "metadata": {
        "id": "tjFjPyPmW4DE",
        "colab": {
          "base_uri": "https://localhost:8080/"
        },
        "outputId": "2c763ae2-3282-414b-9591-7563b34026f5"
      },
      "execution_count": null,
      "outputs": [
        {
          "output_type": "stream",
          "name": "stdout",
          "text": [
            "Lisa appeared 2 times\n"
          ]
        }
      ]
    },
    {
      "cell_type": "code",
      "source": [
        "#result"
      ],
      "metadata": {
        "colab": {
          "base_uri": "https://localhost:8080/"
        },
        "id": "yhHJPJy1W6wy",
        "outputId": "3aed1018-61ee-43f3-9a44-fa1428f00c46"
      },
      "execution_count": null,
      "outputs": [
        {
          "output_type": "stream",
          "name": "stdout",
          "text": [
            "Lisa appeared 2 times\n"
          ]
        }
      ]
    },
    {
      "cell_type": "markdown",
      "source": [
        "###4.Write a Program to extract each digit from a string."
      ],
      "metadata": {
        "id": "5nlEigt5aBMm"
      }
    },
    {
      "cell_type": "code",
      "source": [
        "str_y = 'Girls’ Generation has made their much-anticipated return! \\\n",
        "        On August 5 at 6 p.m. KST, Girls’ Generation released their new album “ FOREVER 1 ” along with the music video for the title track of the same name. \\\n",
        "        The iconic girl group made their first full-group comeback in five years in celebration of the 15 th anniversary of their debut. \\\n",
        "        The digital album was unveiled today, but the physical album will be released on August 8 .'"
      ],
      "metadata": {
        "id": "y48q9BVjXKBP"
      },
      "execution_count": null,
      "outputs": []
    },
    {
      "cell_type": "code",
      "source": [
        "#return number list from string\n",
        "#code\n",
        "num_word = []\n",
        "for word in str_y.split():\n",
        "  if word.isdigit():\n",
        "    num_word.append(word)\n",
        "\n",
        "num_word"
      ],
      "metadata": {
        "id": "ChexvL5FZHdo",
        "colab": {
          "base_uri": "https://localhost:8080/"
        },
        "outputId": "ef6e4a1a-2ced-4a9e-c45a-9fe866dda7bf"
      },
      "execution_count": null,
      "outputs": [
        {
          "output_type": "execute_result",
          "data": {
            "text/plain": [
              "['5', '6', '1', '15', '8']"
            ]
          },
          "metadata": {},
          "execution_count": 64
        }
      ]
    },
    {
      "cell_type": "code",
      "source": [
        "#result\n"
      ],
      "metadata": {
        "colab": {
          "base_uri": "https://localhost:8080/"
        },
        "id": "d6Lg-ZQNZS2p",
        "outputId": "dac3d8bc-ac6f-4b9b-fd8e-53222d9ee408"
      },
      "execution_count": null,
      "outputs": [
        {
          "output_type": "execute_result",
          "data": {
            "text/plain": [
              "['5', '6', '1', '15']"
            ]
          },
          "metadata": {},
          "execution_count": 31
        }
      ]
    },
    {
      "cell_type": "markdown",
      "source": [
        "###5.Write program for calculate cost of food beverage from texts."
      ],
      "metadata": {
        "id": "JN-uTlO9ah9x"
      }
    },
    {
      "cell_type": "code",
      "source": [
        "str_z = 'คุณฟัก อยู่แม้น ไปรับประทานอาหารที่ร้านโคตรละยำตำบอน รายการดังนี้ ค่ายำทะเลเดือด 3550 บาท \\\n",
        "          ยำถั่วพู 800 คอหมูย่าง 800  ลาหมูคั่ว 1000 ไส้ย่าง 1000 ค่าเครื่องดื่ม 40000'"
      ],
      "metadata": {
        "id": "ggFCc3kPZveF"
      },
      "execution_count": null,
      "outputs": []
    },
    {
      "cell_type": "code",
      "source": [
        "#code\n",
        "sum_val = 0\n",
        "for word in str_z.split():\n",
        "  if word.isdigit():\n",
        "    n = int(word)\n",
        "    sum_val = sum_val+n\n",
        "\n",
        "sum_val"
      ],
      "metadata": {
        "id": "pgEgMXbQnF-V",
        "colab": {
          "base_uri": "https://localhost:8080/"
        },
        "outputId": "bb42bdae-a317-4055-997b-1010bdf03c66"
      },
      "execution_count": null,
      "outputs": [
        {
          "output_type": "execute_result",
          "data": {
            "text/plain": [
              "47150"
            ]
          },
          "metadata": {},
          "execution_count": 69
        }
      ]
    },
    {
      "cell_type": "code",
      "source": [
        "#return number list from string\n",
        "#code\n",
        "num_word = []\n",
        "for word in str_z.split():\n",
        "  if word.isdigit():\n",
        "    num_word.append(int(word))\n",
        "\n",
        "sum(num_word)"
      ],
      "metadata": {
        "colab": {
          "base_uri": "https://localhost:8080/"
        },
        "id": "qF1PUTdPhjNs",
        "outputId": "4ec7e769-bc84-43ad-f22a-ead3f7c7712e"
      },
      "execution_count": null,
      "outputs": [
        {
          "output_type": "execute_result",
          "data": {
            "text/plain": [
              "47150"
            ]
          },
          "metadata": {},
          "execution_count": 70
        }
      ]
    },
    {
      "cell_type": "code",
      "source": [
        "#result\n"
      ],
      "metadata": {
        "colab": {
          "base_uri": "https://localhost:8080/"
        },
        "id": "yVZQmTGonKTs",
        "outputId": "c324f420-badb-42d5-bea7-140d3edfb6f5"
      },
      "execution_count": null,
      "outputs": [
        {
          "output_type": "stream",
          "name": "stdout",
          "text": [
            "1010\n"
          ]
        }
      ]
    },
    {
      "cell_type": "markdown",
      "source": [
        "###6.Create function for check string has at least one letter and one number "
      ],
      "metadata": {
        "id": "eL65CDZnrDEZ"
      }
    },
    {
      "cell_type": "code",
      "source": [
        "def checkstring(txt):\n",
        "  \n",
        "\n",
        "\n",
        "\n",
        "\n",
        "  "
      ],
      "metadata": {
        "id": "BKXYlWTDn1gZ"
      },
      "execution_count": null,
      "outputs": []
    },
    {
      "cell_type": "code",
      "source": [
        "#result \n"
      ],
      "metadata": {
        "colab": {
          "base_uri": "https://localhost:8080/"
        },
        "id": "HetuIkswsQ2-",
        "outputId": "ae7d6516-7494-4517-af90-26d8548746a2"
      },
      "execution_count": null,
      "outputs": [
        {
          "output_type": "stream",
          "name": "stdout",
          "text": [
            "True\n"
          ]
        }
      ]
    },
    {
      "cell_type": "markdown",
      "source": [
        "###7.Write program for count word from texts."
      ],
      "metadata": {
        "id": "K_h60WUmvAgX"
      }
    },
    {
      "cell_type": "code",
      "source": [
        "str_a = 'The Call of Duty franchise is no stranger to mobile gaming, but the succinctly titled Call of Duty: Mobile is different. \\\n",
        "While I’ve already fought Call of Duty zombies on a phone and even used a Nintendo DS stylus to aim down sights \\\n",
        "(I don’t recommend it) in unambitious games designed for the limitations of their platforms, this new entry represents a concerted effort \\\n",
        "from Activision to make a mark on the notoriously difficult-to-crack and overcrowded mobile market – and it clearly wants to bring in people for the long term. \\\n",
        "You won’t find a campaign, but the multiplayer modes are substantial and even include a full battle royale. What’s put forth is impressive, \\\n",
        "but the controls are iffy and its free-to-play nature has it reminding you about its microtransactions often, even if they are thankfully easy to ignore.'"
      ],
      "metadata": {
        "id": "iuzwUErksQ_B"
      },
      "execution_count": null,
      "outputs": []
    },
    {
      "cell_type": "code",
      "source": [
        "#code\n",
        "\n",
        "\n",
        "\n",
        "\n"
      ],
      "metadata": {
        "id": "kcDI2yv6u-fs"
      },
      "execution_count": null,
      "outputs": []
    },
    {
      "cell_type": "code",
      "source": [
        "#result\n"
      ],
      "metadata": {
        "colab": {
          "base_uri": "https://localhost:8080/"
        },
        "id": "UXmGKzT6vcWl",
        "outputId": "0beb2106-c1ac-4af3-ec9c-0ae36ed0114e"
      },
      "execution_count": null,
      "outputs": [
        {
          "output_type": "stream",
          "name": "stdout",
          "text": [
            "2\n"
          ]
        }
      ]
    },
    {
      "cell_type": "markdown",
      "source": [
        "###8.Write program for count all character in dictionary.\n",
        "\n",
        "\n"
      ],
      "metadata": {
        "id": "e7fSrpAfytco"
      }
    },
    {
      "cell_type": "code",
      "source": [
        "dict_tweets = {\n",
        "'1551804244524953600' :'#นมวัวรีวิว คำเดียวเลยนะแกมันอร่อยมากก ข้าวโพดอบกรอบรสซุปข้าวโพดเดอะเบสสุดแล้วแต่ราไข่ปลาคอลกับชีสก็อร่อยนะราคาแพ็ค30แท่ง139บาท \\\n",
        "ขายแยกในแอปส้มราคาแท่งละ12บาทส่วนชานมคือไม่หวานเลยหอมชามากคือดือ  ราคา 39 บาท #รีวิวดองกิ้ #ดองดองกิ #อร่อยไปแดก #ไว้รีวิวห้ามขายของโว้ยยย #arii https://t.co/kPTYfnnHlY',\n",
        "'1551801676922728450' : 'โดนัทหน้ากรอบ อร่อยมาก แป้งนุ่ม หน้าน้ำตาลคาราเมลกรอบๆ ไส้ครีมละมุนดี \\\n",
        "แพรไปเจอที่เซ็นทรัลเวสเกตต์ชั้น 1 หน้า Tops ของร้าน Chubby Dough\\\n",
        "มีทั้งแบบมีไส้ 53.- กับแบบไม่มีไส้เลย 33.-(แต่ชอบแบบมีไส้มากกว่า) @Kin24hrs @aroii #อร่อยไปแดก #อร่อยบอกต่อ https://t.co/kpsKkEbAy1',\n",
        "'1551792654832132097' : 'Black to noodle พัทยา เจ้าเดียวในพัทยา​ เย็นตาโฟน้ำดำ​ ใครยังไม่เคยลอง​ แนะนำเลย น้ำซุปจะเป็นสีดำหวานกลมกล่อม​ กำลังดีค่ะ​ \\\n",
        "กินเสร็จอาจมีความปากดำนิดหน่อย​น๊า​  ปล.ร้านอยู่ในปั้มน้ำมัน​ถนนนาเกลือ​ ไปตาม​ gps​ โล้ด​ #อร่อยไปแดก #อร่อยบอกต่อ @aroii \\\n",
        "@aroiipaiadk https://t.co/szzRbqs7Nd',\n",
        "'1551788475028217857' : 'ห่อหมกผัดทะเลมะพร้าวอ่อน \\\n",
        "(Stir-Fried Red Curry with Seafood Served in a Coconut) \\\n",
        "หนึ่งในเมนูซิกเนเจอร์ของทางร้านที่ไม่ควรพลาด \\\n",
        "#เลอนัวตลาดไท #ตลาดไท สั่งอาหาร Line ID : @lenoircuisineTel. 0846774153 \\\n",
        "#อร่อยไปแดก #อร่อยบอกต่อ #อร่อยจนต้องรีวิว #ของกิน #กินน้ําเยอะๆนะ https://t.co/lDI5o7rEiq'}"
      ],
      "metadata": {
        "id": "qq27a9Ytwbk2"
      },
      "execution_count": null,
      "outputs": []
    },
    {
      "cell_type": "code",
      "source": [
        "#code\n",
        "\n",
        "\n",
        "\n"
      ],
      "metadata": {
        "id": "Ghbw4fYf2cPQ"
      },
      "execution_count": null,
      "outputs": []
    },
    {
      "cell_type": "code",
      "source": [
        "#result\n"
      ],
      "metadata": {
        "colab": {
          "base_uri": "https://localhost:8080/"
        },
        "id": "vf1wsWXp26at",
        "outputId": "527fe242-76a4-4e0b-f894-e56e42af888e"
      },
      "execution_count": null,
      "outputs": [
        {
          "output_type": "stream",
          "name": "stdout",
          "text": [
            "1131\n"
          ]
        }
      ]
    },
    {
      "cell_type": "markdown",
      "source": [
        "###9.Create function for spellcheck and return index."
      ],
      "metadata": {
        "id": "N9llueOh7qBq"
      }
    },
    {
      "cell_type": "code",
      "source": [
        "#code\n",
        "def spell_check(a,b):\n",
        "  idx_check = []\n",
        "  for i in range(len(a)):\n",
        "    if a[i] != b[i]:\n",
        "      idx_check.append(i)\n",
        "  return idx_check"
      ],
      "metadata": {
        "id": "cMuf8CW13bu5"
      },
      "execution_count": null,
      "outputs": []
    },
    {
      "cell_type": "code",
      "source": [
        "#result\n",
        "spell_check('ยามใส่เสื้อคอกระเช้าอยู่กะเช้า','ยามอยู่กะเช้าใส่เสื้อคอกระเช้า')"
      ],
      "metadata": {
        "colab": {
          "base_uri": "https://localhost:8080/"
        },
        "id": "tFuqY_Qn8YJt",
        "outputId": "93ba11c2-438b-4e29-8475-fa9467762fcd"
      },
      "execution_count": null,
      "outputs": [
        {
          "output_type": "execute_result",
          "data": {
            "text/plain": [
              "[3, 4, 5, 6, 7, 8, 9, 10, 11, 12, 13, 14, 15, 17, 18, 19, 21, 22, 23, 24]"
            ]
          },
          "metadata": {},
          "execution_count": 57
        }
      ]
    },
    {
      "cell_type": "markdown",
      "source": [
        "###10.create function for find gmail."
      ],
      "metadata": {
        "id": "cM74Pny7AIRl"
      }
    },
    {
      "cell_type": "code",
      "source": [
        "str_b = 'There is disagreement and confusion about what Taiwan is. It has its own constitution, democratically-elected leaders, \\\n",
        "and about 300,000 active troops in its armed forces. Chiang@gmail.com \\\n",
        "ROC government-in-exile at first claimed to represent the whole of China, which it intended to re-occupy. \\\n",
        "It held China seat on the United Nations Security Council and was recognised by many Western nations as the only Chinese government.'"
      ],
      "metadata": {
        "id": "mGm80sJ_9qnE"
      },
      "execution_count": null,
      "outputs": []
    },
    {
      "cell_type": "code",
      "source": [
        "#code\n",
        "def find_gmail(text):\n",
        "  "
      ],
      "metadata": {
        "id": "VyZZWSNO_l2H"
      },
      "execution_count": null,
      "outputs": []
    },
    {
      "cell_type": "code",
      "source": [
        "#result"
      ],
      "metadata": {
        "colab": {
          "base_uri": "https://localhost:8080/"
        },
        "id": "cK34-nF1Dfhw",
        "outputId": "532acb82-af3c-4e63-dfc5-d7420c8cfd4e"
      },
      "execution_count": null,
      "outputs": [
        {
          "output_type": "stream",
          "name": "stdout",
          "text": [
            "Chiang@gmail.com\n"
          ]
        }
      ]
    },
    {
      "cell_type": "code",
      "source": [],
      "metadata": {
        "id": "ByuBuzdODtNG"
      },
      "execution_count": null,
      "outputs": []
    }
  ]
}