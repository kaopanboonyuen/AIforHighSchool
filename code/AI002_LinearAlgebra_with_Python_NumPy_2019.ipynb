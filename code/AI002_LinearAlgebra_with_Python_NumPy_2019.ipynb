{
  "cells": [
    {
      "cell_type": "markdown",
      "metadata": {
        "id": "bpmNbV46BHw9"
      },
      "source": [
        "![Accel.AI](https://static1.squarespace.com/static/58dc1a1ee4fcb51cbb80a096/t/58f7170329687f53ff2ca1f7/1492588319632/logo-horiz-SM.png?format=300w)\n",
        "\n",
        "# Linear Algebra with Python and NumPy"
      ]
    },
    {
      "cell_type": "code",
      "execution_count": 1,
      "metadata": {
        "id": "cMjz8KKBBHw_"
      },
      "outputs": [],
      "source": [
        "# First, we need to import the package NumPy, which is the library enabling all the fun with algebraic structures.\n",
        "from numpy import *"
      ]
    },
    {
      "cell_type": "markdown",
      "metadata": {
        "id": "WuJund_bBHxU"
      },
      "source": [
        "## Vectors and Matrices"
      ]
    },
    {
      "cell_type": "code",
      "execution_count": 2,
      "metadata": {
        "colab": {
          "base_uri": "https://localhost:8080/"
        },
        "id": "mUBaU-gzBHxX",
        "outputId": "8f143343-3f28-41d2-d6f7-47fd01541fa0"
      },
      "outputs": [
        {
          "output_type": "stream",
          "name": "stdout",
          "text": [
            "[10 20 30]\n",
            "(3,)\n",
            "[15 25 35]\n",
            "[ 50 100 150]\n"
          ]
        }
      ],
      "source": [
        "a = array([10,20,30])   # Define a vector of size 3 using type 'array'\n",
        "print(a)\n",
        "print(a.shape)          # Size/shape of vector\n",
        "\n",
        "b = array([5,5,5])   # Define a vector of size 3 using type 'array'\n",
        "\n",
        "print(a+b)\n",
        "\n",
        "print(a*b)"
      ]
    },
    {
      "cell_type": "code",
      "execution_count": 3,
      "metadata": {
        "colab": {
          "base_uri": "https://localhost:8080/"
        },
        "id": "U1mQK9fjBHxf",
        "outputId": "93772a9d-ff39-482f-d06a-a652a0139af5"
      },
      "outputs": [
        {
          "output_type": "stream",
          "name": "stdout",
          "text": [
            "[[10 20 30]]\n",
            "(1, 3)\n"
          ]
        }
      ],
      "source": [
        "b = matrix('10 20 30')  # Define a vector of size 3 using type 'matrix'\n",
        "print(b)\n",
        "print(b.shape)          # Size/shape of vector"
      ]
    },
    {
      "cell_type": "code",
      "execution_count": 4,
      "metadata": {
        "colab": {
          "base_uri": "https://localhost:8080/"
        },
        "id": "wbkDzzJto9GE",
        "outputId": "75a8ce78-0ad6-41d9-9777-1cbb1136b187"
      },
      "outputs": [
        {
          "output_type": "stream",
          "name": "stdout",
          "text": [
            "[[ 1  4  5 12]\n",
            " [-5  8  9  0]\n",
            " [-6  7 11 19]]\n"
          ]
        },
        {
          "output_type": "execute_result",
          "data": {
            "text/plain": [
              "(3, 4)"
            ]
          },
          "metadata": {},
          "execution_count": 4
        }
      ],
      "source": [
        "A = matrix([[1, 4, 5, 12],\n",
        "            [-5, 8, 9, 0],\n",
        "            [-6, 7, 11, 19]])\n",
        "\n",
        "print(A)\n",
        "\n",
        "A.shape"
      ]
    },
    {
      "cell_type": "code",
      "execution_count": 5,
      "metadata": {
        "colab": {
          "base_uri": "https://localhost:8080/"
        },
        "id": "nrR_FSS0o9GF",
        "outputId": "bb0a72b6-f65e-4be5-edd0-025aabc0c993"
      },
      "outputs": [
        {
          "output_type": "stream",
          "name": "stdout",
          "text": [
            "(3,)\n",
            "<class 'numpy.ndarray'>\n",
            "(2, 3)\n",
            "<class 'numpy.ndarray'>\n"
          ]
        }
      ],
      "source": [
        "a = array([1,2,3])\n",
        "print(a.shape)\n",
        "print(type(a))\n",
        "\n",
        "a = array([ [1,2,3],[3,2,1] ])\n",
        "print(a.shape)\n",
        "print(type(a))"
      ]
    },
    {
      "cell_type": "code",
      "execution_count": 6,
      "metadata": {
        "colab": {
          "base_uri": "https://localhost:8080/"
        },
        "id": "TfUDHblnBHxl",
        "outputId": "2dfc9b59-056d-47da-9067-2d760cfe0613"
      },
      "outputs": [
        {
          "output_type": "stream",
          "name": "stdout",
          "text": [
            "[10. 12. 14. 16. 18. 20.]\n",
            "<class 'numpy.ndarray'>\n"
          ]
        }
      ],
      "source": [
        "c = linspace(10,20,6)   # Define vector as 6 values evenly spaced from 10 to 20\n",
        "print(c)\n",
        "print(type(c))"
      ]
    },
    {
      "cell_type": "markdown",
      "metadata": {
        "id": "M1tOQ7UMBHxr"
      },
      "source": [
        "Note that matrix and array elements in Python are indexed from 0, in contrast to Matlab where indexing starts from 1."
      ]
    },
    {
      "cell_type": "code",
      "execution_count": 7,
      "metadata": {
        "colab": {
          "base_uri": "https://localhost:8080/"
        },
        "id": "msEthMgyBHxt",
        "outputId": "f8e81fd5-26f4-419a-a03b-4906a116ce93"
      },
      "outputs": [
        {
          "output_type": "stream",
          "name": "stdout",
          "text": [
            "[10. 12. 14. 16. 18. 20.]\n",
            "10.0\n",
            "20.0\n",
            "[10. 12. 14.]\n",
            "[16. 18. 20.]\n",
            "[14. 16.]\n"
          ]
        }
      ],
      "source": [
        "print(c[:])     # Get all elements\n",
        "print(c[0])     # The first element\n",
        "print(c[-1])    # The last element\n",
        "print(c[:3])    # The first 3 elements\n",
        "print(c[-3:])   # The last 3 elemnets\n",
        "print(c[2:4])   # 2:4 selects elements of indexes 2 and 3"
      ]
    },
    {
      "cell_type": "code",
      "execution_count": 8,
      "metadata": {
        "colab": {
          "base_uri": "https://localhost:8080/"
        },
        "id": "A75IDSsSo9GJ",
        "outputId": "8acf18fb-c673-4072-ef92-4d10e4c3c4d8"
      },
      "outputs": [
        {
          "output_type": "stream",
          "name": "stdout",
          "text": [
            "[[7 7 7]\n",
            " [8 8 8]]\n",
            "(2, 3)\n"
          ]
        }
      ],
      "source": [
        "A = matrix([ [7,7,7],\n",
        "            [8,8,8]  ])\n",
        "\n",
        "print(A)\n",
        "print(A.shape)"
      ]
    },
    {
      "cell_type": "markdown",
      "metadata": {
        "id": "QeiSlfmGBHxx"
      },
      "source": [
        "**_Euclidean norm_** of vector is returned by method `numpy.linalg.norm`"
      ]
    },
    {
      "cell_type": "code",
      "execution_count": 9,
      "metadata": {
        "colab": {
          "base_uri": "https://localhost:8080/"
        },
        "id": "feJzzwVwBHxz",
        "outputId": "ff997002-a8c6-4838-bff9-1f45903c1e88"
      },
      "outputs": [
        {
          "output_type": "stream",
          "name": "stdout",
          "text": [
            "a = [[1 2 3]\n",
            " [3 2 1]]\n",
            "norm(a) = 5.291502622129181\n",
            "x = [[0.18898224 0.37796447 0.56694671]\n",
            " [0.56694671 0.37796447 0.18898224]]\n",
            "norm(x) = 0.9999999999999999\n"
          ]
        }
      ],
      "source": [
        "norm = linalg.norm(a)      # Euclidean norm of vector a\n",
        "print('a =', a)\n",
        "print('norm(a) =', norm)\n",
        "\n",
        "x = a/linalg.norm(a)       # Make normalized/unit vector from a\n",
        "print('x =', x)\n",
        "print('norm(x) =', linalg.norm(x))"
      ]
    },
    {
      "cell_type": "markdown",
      "metadata": {
        "id": "l0FDDryvBHx5"
      },
      "source": [
        "**_Transposition_** of vectors is not so intuitive as in Matlab, especially if a vector is defined as 1D `array` and you cannot distinguish between row and column vector. However, using the keyword `newaxis` it's possible to shape the vector into 2D array (as matrix of size $1 \\times n$ or $n \\times 1$), where transposition makes sense and can be obtained by attribute `.T`."
      ]
    },
    {
      "cell_type": "code",
      "execution_count": 10,
      "metadata": {
        "colab": {
          "base_uri": "https://localhost:8080/"
        },
        "id": "expuVonNBHx6",
        "outputId": "5810f4b2-477d-46a4-e213-2353775c72bd"
      },
      "outputs": [
        {
          "output_type": "stream",
          "name": "stdout",
          "text": [
            "[[[1 2 3]]\n",
            "\n",
            " [[3 2 1]]]\n",
            "(2, 1, 3)\n",
            "[[[1 3]]\n",
            "\n",
            " [[2 2]]\n",
            "\n",
            " [[3 1]]]\n"
          ]
        }
      ],
      "source": [
        "x = a[:,newaxis]  # Make column vector from vector a (defined as array)\n",
        "print(x)\n",
        "print(x.shape)    # Now size of column vector is 3x1\n",
        "print(x.T)        # Make row vector by transpostion of column vector"
      ]
    },
    {
      "cell_type": "markdown",
      "metadata": {
        "id": "psQsskCeBHx_"
      },
      "source": [
        "If a vector was defined as 2D array of type `matrix`, transportation is not a problem."
      ]
    },
    {
      "cell_type": "code",
      "execution_count": 11,
      "metadata": {
        "colab": {
          "base_uri": "https://localhost:8080/"
        },
        "id": "PaSw3UNrBHyA",
        "outputId": "bc2d893f-b36c-4089-f576-521c313de158"
      },
      "outputs": [
        {
          "output_type": "stream",
          "name": "stdout",
          "text": [
            "[[10]\n",
            " [20]\n",
            " [30]]\n",
            "(3, 1)\n",
            "[[10 20 30]]\n"
          ]
        }
      ],
      "source": [
        "x = b.T           # Make column vector from vector b (defined as matrix)\n",
        "print(x)\n",
        "print(x.shape)    # Now size of column vector is 3x1\n",
        "print(x.T)        # Make row vector by transpostion of column vector"
      ]
    },
    {
      "cell_type": "markdown",
      "metadata": {
        "id": "WeAvtqrFBHyH"
      },
      "source": [
        "**_Matrices_** can be defined as 2D arrays of type `array` or `matrix` (there is no problem with transposition with any type)."
      ]
    },
    {
      "cell_type": "code",
      "execution_count": 12,
      "metadata": {
        "colab": {
          "base_uri": "https://localhost:8080/"
        },
        "id": "2HhG2KdlBHyH",
        "outputId": "ff8fd546-bf5b-4f3c-c59b-b5adefe24110"
      },
      "outputs": [
        {
          "output_type": "stream",
          "name": "stdout",
          "text": [
            "[[11 12 13]\n",
            " [21 22 23]\n",
            " [31 32 33]]\n",
            "(3, 3)\n"
          ]
        }
      ],
      "source": [
        "A = array([[11,12,13], [21,22,23], [31,32,33]])  # Define matrix of size 3x3 as 2D 'array-type'\n",
        "print(A)\n",
        "print(A.shape)"
      ]
    },
    {
      "cell_type": "code",
      "execution_count": 13,
      "metadata": {
        "colab": {
          "base_uri": "https://localhost:8080/"
        },
        "id": "NeFzU4gnBHyQ",
        "outputId": "568dc2bb-fd0a-49f5-f4b3-d488efe8a5f3"
      },
      "outputs": [
        {
          "output_type": "stream",
          "name": "stdout",
          "text": [
            "[[11 12 13]\n",
            " [21 22 23]\n",
            " [31 32 33]]\n",
            "(3, 3)\n"
          ]
        }
      ],
      "source": [
        "B = matrix('11 12 13; 21 22 23; 31 32 33')  # Define matrix of size 3x3 as 'matrix-type'\n",
        "print(B)\n",
        "print(B.shape)"
      ]
    },
    {
      "cell_type": "code",
      "execution_count": 14,
      "metadata": {
        "colab": {
          "base_uri": "https://localhost:8080/"
        },
        "id": "X9K9eSg6BHyX",
        "outputId": "0e0f3e34-b58c-41a9-8f51-7318f541fd9d"
      },
      "outputs": [
        {
          "output_type": "stream",
          "name": "stdout",
          "text": [
            "12\n",
            "[[11 12 13]]\n",
            "[[11]\n",
            " [21]\n",
            " [31]]\n"
          ]
        }
      ],
      "source": [
        "print(B[0,1])    # Get matrix element at row 0, column 1\n",
        "print(B[0,:])    # Get 1st row of matrix (A[0] returns also 1st row)\n",
        "print(B[:,0])    # Get 1st column of matrix"
      ]
    },
    {
      "cell_type": "code",
      "execution_count": 15,
      "metadata": {
        "colab": {
          "base_uri": "https://localhost:8080/"
        },
        "id": "dAiaIIfeBHyc",
        "outputId": "c259e5a8-f618-49ee-8148-afc61b149a84"
      },
      "outputs": [
        {
          "output_type": "stream",
          "name": "stdout",
          "text": [
            "[11 21 31]\n",
            "[[11]\n",
            " [21]\n",
            " [31]]\n"
          ]
        }
      ],
      "source": [
        "print(A[:,0])   # Note that column from 'array-type' matrix is returned as 1D array\n",
        "print(B[:,0])   # Column from 'matrix-type' matrix is returned as true column as expected"
      ]
    },
    {
      "cell_type": "markdown",
      "metadata": {
        "id": "kAPJ1jEnBHyf"
      },
      "source": [
        "NumPy can generate some essential matrices exactly like Matlab."
      ]
    },
    {
      "cell_type": "code",
      "execution_count": 16,
      "metadata": {
        "colab": {
          "base_uri": "https://localhost:8080/"
        },
        "id": "hArEBi2SBHyg",
        "outputId": "f2c655a8-d7dc-4354-eff3-7e2bd3516a4a"
      },
      "outputs": [
        {
          "output_type": "stream",
          "name": "stdout",
          "text": [
            "3x3 Matrix full of zeros:\n",
            "[[0. 0. 0.]\n",
            " [0. 0. 0.]\n",
            " [0. 0. 0.]]\n",
            "\n",
            "3x3 Matrix full of ones:\n",
            "[[1. 1. 1.]\n",
            " [1. 1. 1.]\n",
            " [1. 1. 1.]]\n",
            "\n",
            "3x3 identity matrix:\n",
            "[[1. 0. 0.]\n",
            " [0. 1. 0.]\n",
            " [0. 0. 1.]]\n",
            "\n",
            "3x3 diagonal matrix:\n",
            "[[1. 0. 0.]\n",
            " [0. 2. 0.]\n",
            " [0. 0. 3.]]\n",
            "\n",
            "3x3 random matrix:\n",
            "[[0.71754984 0.57696389 0.39429936]\n",
            " [0.00896188 0.28915838 0.13989351]\n",
            " [0.64751209 0.62943678 0.31872283]]\n"
          ]
        }
      ],
      "source": [
        "print('3x3 Matrix full of zeros:')\n",
        "print(zeros([3,3]))\n",
        "\n",
        "print('\\n3x3 Matrix full of ones:')\n",
        "print(ones([3,3]))\n",
        "\n",
        "print('\\n3x3 identity matrix:')\n",
        "print(eye(3))\n",
        "\n",
        "print('\\n3x3 diagonal matrix:')\n",
        "x = array([1.,2.,3.])\n",
        "print(diag(x))\n",
        "\n",
        "print('\\n3x3 random matrix:')\n",
        "print(random.rand(3,3))"
      ]
    },
    {
      "cell_type": "markdown",
      "metadata": {
        "id": "eM6WGp8fBHyk"
      },
      "source": [
        "For merging matrices or vectors methods `numpy.hstack` and `numpy.vstack` can be used."
      ]
    },
    {
      "cell_type": "code",
      "execution_count": 17,
      "metadata": {
        "colab": {
          "base_uri": "https://localhost:8080/"
        },
        "id": "0kTXSgj4BHym",
        "outputId": "bf57292f-4440-492f-b98d-e2fcb26de3ad"
      },
      "outputs": [
        {
          "output_type": "stream",
          "name": "stdout",
          "text": [
            "[[11. 12. 13.]\n",
            " [21. 22. 23.]\n",
            " [31. 32. 33.]\n",
            " [ 1.  1.  1.]]\n",
            "[[11. 12. 13.  1.]\n",
            " [21. 22. 23.  1.]\n",
            " [31. 32. 33.  1.]]\n",
            "[[11. 12. 13.  1.  0.  0.]\n",
            " [21. 22. 23.  0.  1.  0.]\n",
            " [31. 32. 33.  0.  0.  1.]]\n"
          ]
        }
      ],
      "source": [
        "print(vstack([ A, ones([1,3]) ]))  # Add row vector to matrix\n",
        "print(hstack([ A, ones([3,1]) ]))  # Add column vector to matrix\n",
        "print(hstack([ A, eye(3) ]))       # Merge two matrices horizontally"
      ]
    },
    {
      "cell_type": "markdown",
      "metadata": {
        "id": "wzKVNmfLBHyp"
      },
      "source": [
        "## Operations with Matrices\n",
        "\n",
        "**_Matrix transposition_** is obtained by attribute `.T`"
      ]
    },
    {
      "cell_type": "code",
      "execution_count": 18,
      "metadata": {
        "colab": {
          "base_uri": "https://localhost:8080/"
        },
        "id": "XCHUxY5sBHyq",
        "outputId": "66230d38-7e94-437f-e254-2d7a275915b4"
      },
      "outputs": [
        {
          "output_type": "stream",
          "name": "stdout",
          "text": [
            "Matrix X of size (2, 5) :\n",
            " [[1. 1. 1. 1. 1.]\n",
            " [1. 1. 1. 1. 1.]]\n",
            "\n",
            "Matrix Y=X.T of size (5, 2) :\n",
            " [[1. 1.]\n",
            " [1. 1.]\n",
            " [1. 1.]\n",
            " [1. 1.]\n",
            " [1. 1.]]\n"
          ]
        }
      ],
      "source": [
        "X = ones([2,5])     # Generate 2x5 matrix full of ones\n",
        "Y = X.T             # Obtain transpose of matrix X\n",
        "\n",
        "print('Matrix X of size', X.shape, ':\\n', X)\n",
        "print('\\nMatrix Y=X.T of size', Y.shape, ':\\n', Y)"
      ]
    },
    {
      "cell_type": "markdown",
      "metadata": {
        "id": "ZKMyooPvBHyz"
      },
      "source": [
        "**_Matrix multiplication_** must be executed by method for dot product `numpy.dot`. Operator `*` produces only element-wise multiplication in Python."
      ]
    },
    {
      "cell_type": "code",
      "execution_count": 19,
      "metadata": {
        "colab": {
          "base_uri": "https://localhost:8080/"
        },
        "id": "CWQPkrfwBHy0",
        "outputId": "d397ee03-798f-4411-f5ec-5b2ce6d47738"
      },
      "outputs": [
        {
          "output_type": "stream",
          "name": "stdout",
          "text": [
            "Matrix A:\n",
            "[[11 12 13]\n",
            " [21 22 23]\n",
            " [31 32 33]]\n",
            "\n",
            "Matrix B:\n",
            "[[1. 1. 1.]\n",
            " [1. 1. 1.]\n",
            " [1. 1. 1.]]\n",
            "\n",
            "Element-wise multiplication A*B:\n",
            "[[11. 12. 13.]\n",
            " [21. 22. 23.]\n",
            " [31. 32. 33.]]\n",
            "\n",
            "Matrix multiplication A by B:\n",
            "[[36. 36. 36.]\n",
            " [66. 66. 66.]\n",
            " [96. 96. 96.]]\n",
            "\n",
            "Matrix multiplication B by A:\n",
            "[[63. 66. 69.]\n",
            " [63. 66. 69.]\n",
            " [63. 66. 69.]]\n"
          ]
        }
      ],
      "source": [
        "print('Matrix A:')\n",
        "print(A)\n",
        "\n",
        "print('\\nMatrix B:')\n",
        "B = ones([3,3])\n",
        "print(B)\n",
        "\n",
        "print('\\nElement-wise multiplication A*B:')\n",
        "print(A*B)\n",
        "\n",
        "print('\\nMatrix multiplication A by B:')\n",
        "print(dot(A,B))\n",
        "\n",
        "print('\\nMatrix multiplication B by A:')\n",
        "print(dot(B,A))"
      ]
    },
    {
      "cell_type": "markdown",
      "metadata": {
        "id": "14b0IbRXBHy5"
      },
      "source": [
        "There are also methods for essential matrix features like **_Frobenius norm_**, **_rank_** or **_determinant_**."
      ]
    },
    {
      "cell_type": "code",
      "execution_count": 20,
      "metadata": {
        "colab": {
          "base_uri": "https://localhost:8080/"
        },
        "id": "bweFhJJpBHy7",
        "outputId": "2ac2a8dd-94f8-43b4-c63c-208c3157491b"
      },
      "outputs": [
        {
          "output_type": "stream",
          "name": "stdout",
          "text": [
            "Matrix A of size (3, 3) :\n",
            " [[11 12 13]\n",
            " [21 22 23]\n",
            " [31 32 33]]\n",
            "\n",
            "Frobenius norm: ||A|| = 70.44146506142529\n",
            "rank(A) = 2\n",
            "det(A) = 0.0\n"
          ]
        }
      ],
      "source": [
        "print('Matrix A of size', A.shape, ':\\n', A)\n",
        "\n",
        "# Frobenius norm of matrix\n",
        "print('\\nFrobenius norm: ||A|| =', linalg.norm(A))\n",
        "\n",
        "# Rank of matrix\n",
        "print('rank(A) =', linalg.matrix_rank(A))\n",
        "\n",
        "# Determinant of matrix\n",
        "print('det(A) =',  linalg.det(A))"
      ]
    },
    {
      "cell_type": "markdown",
      "metadata": {
        "id": "H9kGnyl6BHy_"
      },
      "source": [
        "In example above, note that the matrix $\\mathbf{A}$ is a singular matrix, because its rank is lower than number of its rows, thus also its detemninat is zero."
      ]
    },
    {
      "cell_type": "code",
      "execution_count": 20,
      "metadata": {
        "id": "gJsWZUafVKhK"
      },
      "outputs": [],
      "source": [
        ""
      ]
    },
    {
      "cell_type": "code",
      "execution_count": 20,
      "metadata": {
        "id": "9kzbLXDpo9GQ"
      },
      "outputs": [],
      "source": [
        ""
      ]
    },
    {
      "cell_type": "code",
      "execution_count": 20,
      "metadata": {
        "id": "w6tBngQlo9GR"
      },
      "outputs": [],
      "source": [
        ""
      ]
    },
    {
      "cell_type": "code",
      "execution_count": 20,
      "metadata": {
        "id": "4REp41cuo9GR"
      },
      "outputs": [],
      "source": [
        ""
      ]
    }
  ],
  "metadata": {
    "colab": {
      "collapsed_sections": [],
      "name": "A002_LinearAlgebra_with_Python-NumPy_2019.ipynb",
      "provenance": [],
      "toc_visible": true
    },
    "kernelspec": {
      "display_name": "Python 3",
      "language": "python",
      "name": "python3"
    },
    "language_info": {
      "codemirror_mode": {
        "name": "ipython",
        "version": 3
      },
      "file_extension": ".py",
      "mimetype": "text/x-python",
      "name": "python",
      "nbconvert_exporter": "python",
      "pygments_lexer": "ipython3",
      "version": "3.7.3"
    }
  },
  "nbformat": 4,
  "nbformat_minor": 0
}